{
 "cells": [
  {
   "cell_type": "markdown",
   "id": "805e4e34",
   "metadata": {},
   "source": [
    "## Project Name: Summer Olympics Analysis\n",
    "- Analysis using SQL and data available in MySql database."
   ]
  },
  {
   "cell_type": "markdown",
   "id": "2d779042",
   "metadata": {},
   "source": [
    "- Sports goes into entertainment category as far as viewers are concerned.\n",
    "- Olympic athletes are considered as benchmarks in regards with their Strength, Agility and Intelligence.\n",
    "\n",
    "### Project goal:\n",
    "- To explore a dataset available in MySql database on the modern Summer Olympic Games - Athens data from 1896 to Rio 2016.\n",
    "- In this project, I investigate on the results and understand trends of Olympics results using SQL.\n",
    "- I will use SQL and MySql connector to fetch data from database and perform analysis and answer some common questions on the Summer Olympics.\n",
    "\n",
    "### Dataset:\n",
    "- Dataset have records at an individual Athlete competing in an individual Olympic events. \n",
    "- Columns as Name, Age, Medal_Won, Game, Year, and so on.\n",
    "\n",
    "### Using summer olympics dataset we try to find out following questions answer:\n",
    "\n"
   ]
  },
  {
   "cell_type": "markdown",
   "id": "c36bfa03",
   "metadata": {},
   "source": [
    "### Phase 1: Data Collection"
   ]
  },
  {
   "cell_type": "markdown",
   "id": "926af24a",
   "metadata": {},
   "source": [
    " ##### We are using two tables which are available at MySQL database:\n",
    " - **olympics_history** table where each row corresponds to an individual athlete competing in an individual Olympic event.\n",
    " - **olympics_history_noc_regions** contains NOC(National Olympic Committee  a 3-letter code) which helps us to add country information and its correspondion region from its NOC code."
   ]
  },
  {
   "cell_type": "code",
   "execution_count": 1,
   "id": "43506ce0",
   "metadata": {},
   "outputs": [],
   "source": [
    "# importing Basic libraries\n",
    "import pandas as pd\n",
    "import numpy as np\n",
    "import matplotlib.pyplot as plt\n",
    "import seaborn as sns\n",
    "%matplotlib inline"
   ]
  },
  {
   "cell_type": "markdown",
   "id": "f5386c93",
   "metadata": {},
   "source": [
    "### Phase 2: Data Understanding"
   ]
  },
  {
   "cell_type": "code",
   "execution_count": 2,
   "id": "7257006a",
   "metadata": {},
   "outputs": [],
   "source": [
    "# Connecting to MySql Database\n",
    "import mysql.connector\n",
    "mydb=mysql.connector.connect(\n",
    "host=\"localhost\",\n",
    "user=\"root\",\n",
    "password=\"Sangeeta@4820\",\n",
    "use_pure=True)"
   ]
  },
  {
   "cell_type": "code",
   "execution_count": 3,
   "id": "d33d11a4",
   "metadata": {},
   "outputs": [],
   "source": [
    "## Query to read first 10 rows of table.\n",
    "query = '''SELECT * FROM Olympics.olympics_history LIMIT 10'''"
   ]
  },
  {
   "cell_type": "code",
   "execution_count": 4,
   "id": "d42a9a31",
   "metadata": {},
   "outputs": [],
   "source": [
    "olympics_history_df = pd.read_sql_query(query, mydb)"
   ]
  },
  {
   "cell_type": "code",
   "execution_count": 5,
   "id": "f8fd9ffc",
   "metadata": {},
   "outputs": [
    {
     "data": {
      "text/html": [
       "<div>\n",
       "<style scoped>\n",
       "    .dataframe tbody tr th:only-of-type {\n",
       "        vertical-align: middle;\n",
       "    }\n",
       "\n",
       "    .dataframe tbody tr th {\n",
       "        vertical-align: top;\n",
       "    }\n",
       "\n",
       "    .dataframe thead th {\n",
       "        text-align: right;\n",
       "    }\n",
       "</style>\n",
       "<table border=\"1\" class=\"dataframe\">\n",
       "  <thead>\n",
       "    <tr style=\"text-align: right;\">\n",
       "      <th></th>\n",
       "      <th>ID</th>\n",
       "      <th>Name</th>\n",
       "      <th>Sex</th>\n",
       "      <th>Age</th>\n",
       "      <th>Height</th>\n",
       "      <th>Weight</th>\n",
       "      <th>Team</th>\n",
       "      <th>NOC</th>\n",
       "      <th>Games</th>\n",
       "      <th>Year</th>\n",
       "      <th>Season</th>\n",
       "      <th>City</th>\n",
       "      <th>Sport</th>\n",
       "      <th>Event</th>\n",
       "      <th>Medal</th>\n",
       "    </tr>\n",
       "  </thead>\n",
       "  <tbody>\n",
       "    <tr>\n",
       "      <th>0</th>\n",
       "      <td>1</td>\n",
       "      <td>A Dijiang</td>\n",
       "      <td>M</td>\n",
       "      <td>24</td>\n",
       "      <td>180</td>\n",
       "      <td>80</td>\n",
       "      <td>China</td>\n",
       "      <td>CHN</td>\n",
       "      <td>1992 Summer</td>\n",
       "      <td>1992</td>\n",
       "      <td>Summer</td>\n",
       "      <td>Barcelona</td>\n",
       "      <td>Basketball</td>\n",
       "      <td>Basketball Men's Basketball</td>\n",
       "      <td>NA</td>\n",
       "    </tr>\n",
       "    <tr>\n",
       "      <th>1</th>\n",
       "      <td>2</td>\n",
       "      <td>A Lamusi</td>\n",
       "      <td>M</td>\n",
       "      <td>23</td>\n",
       "      <td>170</td>\n",
       "      <td>60</td>\n",
       "      <td>China</td>\n",
       "      <td>CHN</td>\n",
       "      <td>2012 Summer</td>\n",
       "      <td>2012</td>\n",
       "      <td>Summer</td>\n",
       "      <td>London</td>\n",
       "      <td>Judo</td>\n",
       "      <td>Judo Men's Extra-Lightweight</td>\n",
       "      <td>NA</td>\n",
       "    </tr>\n",
       "    <tr>\n",
       "      <th>2</th>\n",
       "      <td>3</td>\n",
       "      <td>Gunnar Nielsen Aaby</td>\n",
       "      <td>M</td>\n",
       "      <td>24</td>\n",
       "      <td>NA</td>\n",
       "      <td>NA</td>\n",
       "      <td>Denmark</td>\n",
       "      <td>DEN</td>\n",
       "      <td>1920 Summer</td>\n",
       "      <td>1920</td>\n",
       "      <td>Summer</td>\n",
       "      <td>Antwerpen</td>\n",
       "      <td>Football</td>\n",
       "      <td>Football Men's Football</td>\n",
       "      <td>NA</td>\n",
       "    </tr>\n",
       "    <tr>\n",
       "      <th>3</th>\n",
       "      <td>4</td>\n",
       "      <td>Edgar Lindenau Aabye</td>\n",
       "      <td>M</td>\n",
       "      <td>34</td>\n",
       "      <td>NA</td>\n",
       "      <td>NA</td>\n",
       "      <td>Denmark/Sweden</td>\n",
       "      <td>DEN</td>\n",
       "      <td>1900 Summer</td>\n",
       "      <td>1900</td>\n",
       "      <td>Summer</td>\n",
       "      <td>Paris</td>\n",
       "      <td>Tug-Of-War</td>\n",
       "      <td>Tug-Of-War Men's Tug-Of-War</td>\n",
       "      <td>Gold</td>\n",
       "    </tr>\n",
       "    <tr>\n",
       "      <th>4</th>\n",
       "      <td>5</td>\n",
       "      <td>Christine Jacoba Aaftink</td>\n",
       "      <td>F</td>\n",
       "      <td>21</td>\n",
       "      <td>185</td>\n",
       "      <td>82</td>\n",
       "      <td>Netherlands</td>\n",
       "      <td>NED</td>\n",
       "      <td>1988 Winter</td>\n",
       "      <td>1988</td>\n",
       "      <td>Winter</td>\n",
       "      <td>Calgary</td>\n",
       "      <td>Speed Skating</td>\n",
       "      <td>Speed Skating Women's 500 metres</td>\n",
       "      <td>NA</td>\n",
       "    </tr>\n",
       "  </tbody>\n",
       "</table>\n",
       "</div>"
      ],
      "text/plain": [
       "   ID                      Name Sex  Age Height Weight            Team  NOC  \\\n",
       "0   1                 A Dijiang   M   24    180     80           China  CHN   \n",
       "1   2                  A Lamusi   M   23    170     60           China  CHN   \n",
       "2   3       Gunnar Nielsen Aaby   M   24     NA     NA         Denmark  DEN   \n",
       "3   4      Edgar Lindenau Aabye   M   34     NA     NA  Denmark/Sweden  DEN   \n",
       "4   5  Christine Jacoba Aaftink   F   21    185     82     Netherlands  NED   \n",
       "\n",
       "         Games  Year  Season       City          Sport  \\\n",
       "0  1992 Summer  1992  Summer  Barcelona     Basketball   \n",
       "1  2012 Summer  2012  Summer     London           Judo   \n",
       "2  1920 Summer  1920  Summer  Antwerpen       Football   \n",
       "3  1900 Summer  1900  Summer      Paris     Tug-Of-War   \n",
       "4  1988 Winter  1988  Winter    Calgary  Speed Skating   \n",
       "\n",
       "                              Event Medal  \n",
       "0       Basketball Men's Basketball    NA  \n",
       "1      Judo Men's Extra-Lightweight    NA  \n",
       "2           Football Men's Football    NA  \n",
       "3       Tug-Of-War Men's Tug-Of-War  Gold  \n",
       "4  Speed Skating Women's 500 metres    NA  "
      ]
     },
     "execution_count": 5,
     "metadata": {},
     "output_type": "execute_result"
    }
   ],
   "source": [
    "olympics_history_df.head()"
   ]
  },
  {
   "cell_type": "code",
   "execution_count": null,
   "id": "b4bde12c",
   "metadata": {},
   "outputs": [],
   "source": []
  },
  {
   "cell_type": "code",
   "execution_count": 6,
   "id": "e6867187",
   "metadata": {},
   "outputs": [],
   "source": [
    "## Query to read first 10 rows of table.\n",
    "query ='''SELECT * FROM Olympics.olympics_history_noc_regions LIMIT 10'''"
   ]
  },
  {
   "cell_type": "code",
   "execution_count": 7,
   "id": "03f6c7c4",
   "metadata": {},
   "outputs": [],
   "source": [
    "olympics_history_noc_regions_df = pd.read_sql_query(query, mydb)"
   ]
  },
  {
   "cell_type": "code",
   "execution_count": 8,
   "id": "34834c26",
   "metadata": {},
   "outputs": [
    {
     "data": {
      "text/html": [
       "<div>\n",
       "<style scoped>\n",
       "    .dataframe tbody tr th:only-of-type {\n",
       "        vertical-align: middle;\n",
       "    }\n",
       "\n",
       "    .dataframe tbody tr th {\n",
       "        vertical-align: top;\n",
       "    }\n",
       "\n",
       "    .dataframe thead th {\n",
       "        text-align: right;\n",
       "    }\n",
       "</style>\n",
       "<table border=\"1\" class=\"dataframe\">\n",
       "  <thead>\n",
       "    <tr style=\"text-align: right;\">\n",
       "      <th></th>\n",
       "      <th>NOC</th>\n",
       "      <th>region</th>\n",
       "      <th>notes</th>\n",
       "    </tr>\n",
       "  </thead>\n",
       "  <tbody>\n",
       "    <tr>\n",
       "      <th>0</th>\n",
       "      <td>AFG</td>\n",
       "      <td>Afghanistan</td>\n",
       "      <td></td>\n",
       "    </tr>\n",
       "    <tr>\n",
       "      <th>1</th>\n",
       "      <td>AHO</td>\n",
       "      <td>Curacao</td>\n",
       "      <td>Netherlands Antilles</td>\n",
       "    </tr>\n",
       "    <tr>\n",
       "      <th>2</th>\n",
       "      <td>ALB</td>\n",
       "      <td>Albania</td>\n",
       "      <td></td>\n",
       "    </tr>\n",
       "    <tr>\n",
       "      <th>3</th>\n",
       "      <td>ALG</td>\n",
       "      <td>Algeria</td>\n",
       "      <td></td>\n",
       "    </tr>\n",
       "    <tr>\n",
       "      <th>4</th>\n",
       "      <td>AND</td>\n",
       "      <td>Andorra</td>\n",
       "      <td></td>\n",
       "    </tr>\n",
       "  </tbody>\n",
       "</table>\n",
       "</div>"
      ],
      "text/plain": [
       "   NOC       region                 notes\n",
       "0  AFG  Afghanistan                      \n",
       "1  AHO      Curacao  Netherlands Antilles\n",
       "2  ALB      Albania                      \n",
       "3  ALG      Algeria                      \n",
       "4  AND      Andorra                      "
      ]
     },
     "execution_count": 8,
     "metadata": {},
     "output_type": "execute_result"
    }
   ],
   "source": [
    "olympics_history_noc_regions_df.head()"
   ]
  },
  {
   "cell_type": "markdown",
   "id": "d91c94f4",
   "metadata": {},
   "source": [
    "### Query to geta all column names in table:"
   ]
  },
  {
   "cell_type": "code",
   "execution_count": 9,
   "id": "49586356",
   "metadata": {},
   "outputs": [],
   "source": [
    "query='''\n",
    "        SELECT \n",
    "            COLUMN_NAME \n",
    "        FROM \n",
    "            INFORMATION_SCHEMA.COLUMNS \n",
    "        WHERE \n",
    "            TABLE_SCHEMA='Olympics' \n",
    "            AND TABLE_NAME='olympics_history';\n",
    "    '''"
   ]
  },
  {
   "cell_type": "code",
   "execution_count": 10,
   "id": "b09a9c82",
   "metadata": {},
   "outputs": [],
   "source": [
    "olympics_histoty_data = pd.read_sql_query(query, mydb)"
   ]
  },
  {
   "cell_type": "code",
   "execution_count": 11,
   "id": "8b14e6f8",
   "metadata": {},
   "outputs": [
    {
     "data": {
      "text/html": [
       "<div>\n",
       "<style scoped>\n",
       "    .dataframe tbody tr th:only-of-type {\n",
       "        vertical-align: middle;\n",
       "    }\n",
       "\n",
       "    .dataframe tbody tr th {\n",
       "        vertical-align: top;\n",
       "    }\n",
       "\n",
       "    .dataframe thead th {\n",
       "        text-align: right;\n",
       "    }\n",
       "</style>\n",
       "<table border=\"1\" class=\"dataframe\">\n",
       "  <thead>\n",
       "    <tr style=\"text-align: right;\">\n",
       "      <th></th>\n",
       "      <th>COLUMN_NAME</th>\n",
       "    </tr>\n",
       "  </thead>\n",
       "  <tbody>\n",
       "    <tr>\n",
       "      <th>0</th>\n",
       "      <td>ID</td>\n",
       "    </tr>\n",
       "    <tr>\n",
       "      <th>1</th>\n",
       "      <td>Name</td>\n",
       "    </tr>\n",
       "    <tr>\n",
       "      <th>2</th>\n",
       "      <td>Sex</td>\n",
       "    </tr>\n",
       "    <tr>\n",
       "      <th>3</th>\n",
       "      <td>Age</td>\n",
       "    </tr>\n",
       "    <tr>\n",
       "      <th>4</th>\n",
       "      <td>Height</td>\n",
       "    </tr>\n",
       "    <tr>\n",
       "      <th>5</th>\n",
       "      <td>Weight</td>\n",
       "    </tr>\n",
       "    <tr>\n",
       "      <th>6</th>\n",
       "      <td>Team</td>\n",
       "    </tr>\n",
       "    <tr>\n",
       "      <th>7</th>\n",
       "      <td>NOC</td>\n",
       "    </tr>\n",
       "    <tr>\n",
       "      <th>8</th>\n",
       "      <td>Games</td>\n",
       "    </tr>\n",
       "    <tr>\n",
       "      <th>9</th>\n",
       "      <td>Year</td>\n",
       "    </tr>\n",
       "    <tr>\n",
       "      <th>10</th>\n",
       "      <td>Season</td>\n",
       "    </tr>\n",
       "    <tr>\n",
       "      <th>11</th>\n",
       "      <td>City</td>\n",
       "    </tr>\n",
       "    <tr>\n",
       "      <th>12</th>\n",
       "      <td>Sport</td>\n",
       "    </tr>\n",
       "    <tr>\n",
       "      <th>13</th>\n",
       "      <td>Event</td>\n",
       "    </tr>\n",
       "    <tr>\n",
       "      <th>14</th>\n",
       "      <td>Medal</td>\n",
       "    </tr>\n",
       "  </tbody>\n",
       "</table>\n",
       "</div>"
      ],
      "text/plain": [
       "   COLUMN_NAME\n",
       "0           ID\n",
       "1         Name\n",
       "2          Sex\n",
       "3          Age\n",
       "4       Height\n",
       "5       Weight\n",
       "6         Team\n",
       "7          NOC\n",
       "8        Games\n",
       "9         Year\n",
       "10      Season\n",
       "11        City\n",
       "12       Sport\n",
       "13       Event\n",
       "14       Medal"
      ]
     },
     "execution_count": 11,
     "metadata": {},
     "output_type": "execute_result"
    }
   ],
   "source": [
    "olympics_histoty_data"
   ]
  },
  {
   "cell_type": "markdown",
   "id": "c7b40382",
   "metadata": {},
   "source": [
    "### Observation:"
   ]
  },
  {
   "cell_type": "markdown",
   "id": "388b5e9b",
   "metadata": {},
   "source": [
    "#### olympics_history table\n",
    "\n",
    "1. Id:\n",
    "    - Represents unique number for each athlete.\n",
    "2. Name:\n",
    "    - Represents name of the athlete.\n",
    "3. Sex:\n",
    "    - Represents sex of athlete.\n",
    "    - M for Male ,F for female\n",
    "4. Age:\n",
    "    - Represents age of an athlete \n",
    "5. Height:\n",
    "    - Represents height of an athlete in cm.\n",
    "    - It has 51402 null values.\n",
    "6. Weight:\n",
    "    - Represents Weight of an athlete in kg.\n",
    "    - It has 54074 null values.\n",
    "7. Team:\n",
    "    - Represents for which team an athelete was playing.\n",
    "8. NOC:\n",
    "    - Represents National Olympic Committee which is 3-letter code.\n",
    "9. Games:\n",
    "    - Represents year and season olympic games was hosted.\n",
    "10. Year:\n",
    "    - Represnts for which year olympic games was hosted.\n",
    "11. Season:\n",
    "    - reprsents for which season olympic games was hosted.\n",
    "12. City:\n",
    "    - Represents host city for respective olympic games.\n",
    "13. Sport:\n",
    "    - Represents Sport played by each athlete in olympic games.\n",
    "14. Event:\n",
    "    - Represents event name with respect to each game.\n",
    "15. Medal:\n",
    "    - Represents  type of medal won by each athlete.\n",
    "    - It contains gold,silver,bronze medals.\n",
    "    - NA represnts no medal won by the athlete.\n",
    "    - There are 222153 null values."
   ]
  },
  {
   "cell_type": "markdown",
   "id": "0fb1debb",
   "metadata": {},
   "source": [
    "#### olympics_history_noc_regions table\n",
    "1. NOC:\n",
    " - Represents National Olympic Committee which is 3-letter code.\n",
    "2. region:\n",
    "  - Represents in which region olympic games was hosted.\n",
    "3. notes:\n",
    " - Represents some additional notes with respect to every region."
   ]
  },
  {
   "cell_type": "markdown",
   "id": "54b9957d",
   "metadata": {},
   "source": [
    "### Query to get Null values in each columns:"
   ]
  },
  {
   "cell_type": "code",
   "execution_count": 12,
   "id": "f571977b",
   "metadata": {},
   "outputs": [],
   "source": [
    "query='''\n",
    "\n",
    "WITH column_name_cte AS\n",
    "(\n",
    "    SELECT \n",
    "        COLUMN_NAME\n",
    "    FROM \n",
    "        INFORMATION_SCHEMA.COLUMNS\n",
    "    WHERE \n",
    "        TABLE_NAME = 'olympics_history'\n",
    "),\n",
    "count_null_values AS \n",
    "(\n",
    "    SELECT 'id' AS col_name, COUNT(*) AS null_values FROM Olympics.olympics_history WHERE ID ='NA'\n",
    "    UNION \n",
    "    SELECT 'name' AS col_name, COUNT(*) AS null_values FROM Olympics.olympics_history WHERE Name ='NA'\n",
    "    UNION \n",
    "    SELECT 'sed' AS col_name, COUNT(*) AS null_values FROM Olympics.olympics_history WHERE Sex ='Na'\n",
    "    UNION \n",
    "    SELECT 'age' AS col_name, COUNT(*) AS null_values FROM Olympics.olympics_history WHERE Age ='Na'\n",
    "    UNION \n",
    "    SELECT 'height' AS col_name, COUNT(*) AS null_values FROM Olympics.olympics_history WHERE Height ='Na'\n",
    "    UNION \n",
    "    SELECT 'weight' AS col_name, COUNT(*) AS null_values FROM Olympics.olympics_history WHERE Weight ='Na'\n",
    "    UNION \n",
    "    SELECT 'team' AS col_name, COUNT(*) AS null_values FROM Olympics.olympics_history WHERE Team ='Na'\n",
    "    UNION \n",
    "    SELECT 'noc' AS col_name, COUNT(*) AS null_values FROM Olympics.olympics_history WHERE NOC ='Na'\n",
    "    UNION \n",
    "    SELECT 'games' AS col_name, COUNT(*) AS null_values FROM Olympics.olympics_history WHERE Games ='Na'\n",
    "    UNION \n",
    "    SELECT 'year' AS col_name, COUNT(*) AS null_values FROM Olympics.olympics_history WHERE Year ='Na'\n",
    "    UNION \n",
    "    SELECT 'season' AS col_name, COUNT(*) AS null_values FROM Olympics.olympics_history WHERE Season ='Na'\n",
    "    UNION \n",
    "    SELECT 'city' AS col_name, COUNT(*) AS null_values FROM Olympics.olympics_history WHERE City ='Na'\n",
    "    UNION \n",
    "    SELECT 'sport' AS col_name, COUNT(*) AS null_values FROM Olympics.olympics_history WHERE Sport ='Na'\n",
    "    UNION \n",
    "    SELECT 'event' AS col_name, COUNT(*) AS null_values FROM Olympics.olympics_history WHERE Event ='Na'\n",
    "    UNION \n",
    "    SELECT 'medal' AS col_name, COUNT(*) AS null_values FROM Olympics.olympics_history WHERE Medal ='Na'\n",
    "\n",
    ")\n",
    "SELECT \n",
    "    * \n",
    "FROM count_null_values\n",
    "'''"
   ]
  },
  {
   "cell_type": "code",
   "execution_count": 13,
   "id": "59d52673",
   "metadata": {},
   "outputs": [],
   "source": [
    "olympics_histoty_data = pd.read_sql_query(query, mydb)"
   ]
  },
  {
   "cell_type": "code",
   "execution_count": 14,
   "id": "01821db9",
   "metadata": {},
   "outputs": [
    {
     "data": {
      "text/html": [
       "<div>\n",
       "<style scoped>\n",
       "    .dataframe tbody tr th:only-of-type {\n",
       "        vertical-align: middle;\n",
       "    }\n",
       "\n",
       "    .dataframe tbody tr th {\n",
       "        vertical-align: top;\n",
       "    }\n",
       "\n",
       "    .dataframe thead th {\n",
       "        text-align: right;\n",
       "    }\n",
       "</style>\n",
       "<table border=\"1\" class=\"dataframe\">\n",
       "  <thead>\n",
       "    <tr style=\"text-align: right;\">\n",
       "      <th></th>\n",
       "      <th>col_name</th>\n",
       "      <th>null_values</th>\n",
       "    </tr>\n",
       "  </thead>\n",
       "  <tbody>\n",
       "    <tr>\n",
       "      <th>0</th>\n",
       "      <td>id</td>\n",
       "      <td>0</td>\n",
       "    </tr>\n",
       "    <tr>\n",
       "      <th>1</th>\n",
       "      <td>name</td>\n",
       "      <td>0</td>\n",
       "    </tr>\n",
       "    <tr>\n",
       "      <th>2</th>\n",
       "      <td>sed</td>\n",
       "      <td>0</td>\n",
       "    </tr>\n",
       "    <tr>\n",
       "      <th>3</th>\n",
       "      <td>age</td>\n",
       "      <td>0</td>\n",
       "    </tr>\n",
       "    <tr>\n",
       "      <th>4</th>\n",
       "      <td>height</td>\n",
       "      <td>51402</td>\n",
       "    </tr>\n",
       "    <tr>\n",
       "      <th>5</th>\n",
       "      <td>weight</td>\n",
       "      <td>54074</td>\n",
       "    </tr>\n",
       "    <tr>\n",
       "      <th>6</th>\n",
       "      <td>team</td>\n",
       "      <td>0</td>\n",
       "    </tr>\n",
       "    <tr>\n",
       "      <th>7</th>\n",
       "      <td>noc</td>\n",
       "      <td>0</td>\n",
       "    </tr>\n",
       "    <tr>\n",
       "      <th>8</th>\n",
       "      <td>games</td>\n",
       "      <td>0</td>\n",
       "    </tr>\n",
       "    <tr>\n",
       "      <th>9</th>\n",
       "      <td>year</td>\n",
       "      <td>0</td>\n",
       "    </tr>\n",
       "    <tr>\n",
       "      <th>10</th>\n",
       "      <td>season</td>\n",
       "      <td>0</td>\n",
       "    </tr>\n",
       "    <tr>\n",
       "      <th>11</th>\n",
       "      <td>city</td>\n",
       "      <td>0</td>\n",
       "    </tr>\n",
       "    <tr>\n",
       "      <th>12</th>\n",
       "      <td>sport</td>\n",
       "      <td>0</td>\n",
       "    </tr>\n",
       "    <tr>\n",
       "      <th>13</th>\n",
       "      <td>event</td>\n",
       "      <td>0</td>\n",
       "    </tr>\n",
       "    <tr>\n",
       "      <th>14</th>\n",
       "      <td>medal</td>\n",
       "      <td>222153</td>\n",
       "    </tr>\n",
       "  </tbody>\n",
       "</table>\n",
       "</div>"
      ],
      "text/plain": [
       "   col_name  null_values\n",
       "0        id            0\n",
       "1      name            0\n",
       "2       sed            0\n",
       "3       age            0\n",
       "4    height        51402\n",
       "5    weight        54074\n",
       "6      team            0\n",
       "7       noc            0\n",
       "8     games            0\n",
       "9      year            0\n",
       "10   season            0\n",
       "11     city            0\n",
       "12    sport            0\n",
       "13    event            0\n",
       "14    medal       222153"
      ]
     },
     "execution_count": 14,
     "metadata": {},
     "output_type": "execute_result"
    }
   ],
   "source": [
    "olympics_histoty_data"
   ]
  },
  {
   "cell_type": "markdown",
   "id": "838dea43",
   "metadata": {},
   "source": [
    "### Phase 3: Data Querying using SQL:"
   ]
  },
  {
   "cell_type": "markdown",
   "id": "8bfc0ebe",
   "metadata": {},
   "source": [
    "#### Q.1 Find the oldest year and and find out count of sports played in that year ?\n",
    "\n",
    "- What do you mean by oldest year - oldest year of athelits or omplypics?\n",
    "- Question contains count in query there is no count? - what actually you want to count?\n",
    "- you did count using pandas better keep it as its but add query that will give same result which pandas is doing.\n",
    "- Write clear question?"
   ]
  },
  {
   "cell_type": "code",
   "execution_count": 15,
   "id": "43a05d2c",
   "metadata": {},
   "outputs": [],
   "source": [
    "query = '''\n",
    "            SELECT \n",
    "                Name AS name,\n",
    "                Sex AS sex,\n",
    "                Team AS country,\n",
    "                Year AS year,\n",
    "                Season As season,\n",
    "                Sport AS sport\n",
    "            FROM \n",
    "                Olympics.olympics_history \n",
    "            WHERE \n",
    "                Year = (SELECT \n",
    "                            min(Year)\n",
    "                        FROM Olympics.olympics_history\n",
    "                        )\n",
    "        '''"
   ]
  },
  {
   "cell_type": "code",
   "execution_count": 16,
   "id": "26e50107",
   "metadata": {},
   "outputs": [],
   "source": [
    "olympics_data = pd.read_sql_query(query, mydb)"
   ]
  },
  {
   "cell_type": "code",
   "execution_count": 17,
   "id": "b3d61c5b",
   "metadata": {},
   "outputs": [
    {
     "data": {
      "text/html": [
       "<div>\n",
       "<style scoped>\n",
       "    .dataframe tbody tr th:only-of-type {\n",
       "        vertical-align: middle;\n",
       "    }\n",
       "\n",
       "    .dataframe tbody tr th {\n",
       "        vertical-align: top;\n",
       "    }\n",
       "\n",
       "    .dataframe thead th {\n",
       "        text-align: right;\n",
       "    }\n",
       "</style>\n",
       "<table border=\"1\" class=\"dataframe\">\n",
       "  <thead>\n",
       "    <tr style=\"text-align: right;\">\n",
       "      <th></th>\n",
       "      <th>name</th>\n",
       "      <th>sex</th>\n",
       "      <th>country</th>\n",
       "      <th>year</th>\n",
       "      <th>season</th>\n",
       "      <th>sport</th>\n",
       "    </tr>\n",
       "  </thead>\n",
       "  <tbody>\n",
       "    <tr>\n",
       "      <th>0</th>\n",
       "      <td>Arthur Charles Blake</td>\n",
       "      <td>M</td>\n",
       "      <td>United States</td>\n",
       "      <td>1896</td>\n",
       "      <td>Summer</td>\n",
       "      <td>Athletics</td>\n",
       "    </tr>\n",
       "    <tr>\n",
       "      <th>1</th>\n",
       "      <td>Arthur Charles Blake</td>\n",
       "      <td>M</td>\n",
       "      <td>United States</td>\n",
       "      <td>1896</td>\n",
       "      <td>Summer</td>\n",
       "      <td>Athletics</td>\n",
       "    </tr>\n",
       "    <tr>\n",
       "      <th>2</th>\n",
       "      <td>Conrad Helmut Fritz Bcker</td>\n",
       "      <td>M</td>\n",
       "      <td>Germany</td>\n",
       "      <td>1896</td>\n",
       "      <td>Summer</td>\n",
       "      <td>Gymnastics</td>\n",
       "    </tr>\n",
       "    <tr>\n",
       "      <th>3</th>\n",
       "      <td>Conrad Helmut Fritz Bcker</td>\n",
       "      <td>M</td>\n",
       "      <td>Germany</td>\n",
       "      <td>1896</td>\n",
       "      <td>Summer</td>\n",
       "      <td>Gymnastics</td>\n",
       "    </tr>\n",
       "    <tr>\n",
       "      <th>4</th>\n",
       "      <td>Conrad Helmut Fritz Bcker</td>\n",
       "      <td>M</td>\n",
       "      <td>Germany</td>\n",
       "      <td>1896</td>\n",
       "      <td>Summer</td>\n",
       "      <td>Gymnastics</td>\n",
       "    </tr>\n",
       "    <tr>\n",
       "      <th>...</th>\n",
       "      <td>...</td>\n",
       "      <td>...</td>\n",
       "      <td>...</td>\n",
       "      <td>...</td>\n",
       "      <td>...</td>\n",
       "      <td>...</td>\n",
       "    </tr>\n",
       "    <tr>\n",
       "      <th>212</th>\n",
       "      <td>Thomas Xenakis</td>\n",
       "      <td>M</td>\n",
       "      <td>Greece</td>\n",
       "      <td>1896</td>\n",
       "      <td>Summer</td>\n",
       "      <td>Gymnastics</td>\n",
       "    </tr>\n",
       "    <tr>\n",
       "      <th>213</th>\n",
       "      <td>Jules Alexis \"Louis\"\" Zutter\"</td>\n",
       "      <td>M</td>\n",
       "      <td>Switzerland</td>\n",
       "      <td>1896</td>\n",
       "      <td>Summer</td>\n",
       "      <td>Gymnastics</td>\n",
       "    </tr>\n",
       "    <tr>\n",
       "      <th>214</th>\n",
       "      <td>Jules Alexis \"Louis\"\" Zutter\"</td>\n",
       "      <td>M</td>\n",
       "      <td>Switzerland</td>\n",
       "      <td>1896</td>\n",
       "      <td>Summer</td>\n",
       "      <td>Gymnastics</td>\n",
       "    </tr>\n",
       "    <tr>\n",
       "      <th>215</th>\n",
       "      <td>Jules Alexis \"Louis\"\" Zutter\"</td>\n",
       "      <td>M</td>\n",
       "      <td>Switzerland</td>\n",
       "      <td>1896</td>\n",
       "      <td>Summer</td>\n",
       "      <td>Gymnastics</td>\n",
       "    </tr>\n",
       "    <tr>\n",
       "      <th>216</th>\n",
       "      <td>Jules Alexis \"Louis\"\" Zutter\"</td>\n",
       "      <td>M</td>\n",
       "      <td>Switzerland</td>\n",
       "      <td>1896</td>\n",
       "      <td>Summer</td>\n",
       "      <td>Gymnastics</td>\n",
       "    </tr>\n",
       "  </tbody>\n",
       "</table>\n",
       "<p>217 rows × 6 columns</p>\n",
       "</div>"
      ],
      "text/plain": [
       "                              name sex        country  year  season  \\\n",
       "0             Arthur Charles Blake   M  United States  1896  Summer   \n",
       "1             Arthur Charles Blake   M  United States  1896  Summer   \n",
       "2        Conrad Helmut Fritz Bcker   M        Germany  1896  Summer   \n",
       "3        Conrad Helmut Fritz Bcker   M        Germany  1896  Summer   \n",
       "4        Conrad Helmut Fritz Bcker   M        Germany  1896  Summer   \n",
       "..                             ...  ..            ...   ...     ...   \n",
       "212                 Thomas Xenakis   M         Greece  1896  Summer   \n",
       "213  Jules Alexis \"Louis\"\" Zutter\"   M    Switzerland  1896  Summer   \n",
       "214  Jules Alexis \"Louis\"\" Zutter\"   M    Switzerland  1896  Summer   \n",
       "215  Jules Alexis \"Louis\"\" Zutter\"   M    Switzerland  1896  Summer   \n",
       "216  Jules Alexis \"Louis\"\" Zutter\"   M    Switzerland  1896  Summer   \n",
       "\n",
       "          sport  \n",
       "0     Athletics  \n",
       "1     Athletics  \n",
       "2    Gymnastics  \n",
       "3    Gymnastics  \n",
       "4    Gymnastics  \n",
       "..          ...  \n",
       "212  Gymnastics  \n",
       "213  Gymnastics  \n",
       "214  Gymnastics  \n",
       "215  Gymnastics  \n",
       "216  Gymnastics  \n",
       "\n",
       "[217 rows x 6 columns]"
      ]
     },
     "execution_count": 17,
     "metadata": {},
     "output_type": "execute_result"
    }
   ],
   "source": [
    "olympics_data"
   ]
  },
  {
   "cell_type": "code",
   "execution_count": 106,
   "id": "6fc9f524",
   "metadata": {},
   "outputs": [
    {
     "data": {
      "text/plain": [
       "(array([0, 1, 2, 3, 4, 5, 6, 7, 8]),\n",
       " [Text(0, 0, 'Gymnastics'),\n",
       "  Text(1, 0, 'Athletics'),\n",
       "  Text(2, 0, 'Cycling'),\n",
       "  Text(3, 0, 'Shooting'),\n",
       "  Text(4, 0, 'Tennis'),\n",
       "  Text(5, 0, 'Swimming'),\n",
       "  Text(6, 0, 'Fencing'),\n",
       "  Text(7, 0, 'Weightlifting'),\n",
       "  Text(8, 0, 'Wrestling')])"
      ]
     },
     "execution_count": 106,
     "metadata": {},
     "output_type": "execute_result"
    },
    {
     "data": {
      "image/png": "[encoded data removed]",
      "text/plain": [
       "<Figure size 2520x1080 with 1 Axes>"
      ]
     },
     "metadata": {
      "needs_background": "light"
     },
     "output_type": "display_data"
    }
   ],
   "source": [
    "plt.figure(figsize=(35,15))\n",
    "ax=sns.countplot(x='sport',data=olympics_data,ec=\"black\",order=olympics_data[\"sport\"].value_counts().index)\n",
    "ax = ax.bar_label(ax.containers[0],fontsize=20)\n",
    "plt.ylabel(\"Count\", weight=\"bold\", fontsize=20)\n",
    "plt.xlabel(\"Sport\", weight=\"bold\", fontsize=20)\n",
    "plt.xticks(rotation = 40,fontsize=20)"
   ]
  },
  {
   "cell_type": "markdown",
   "id": "6f6fef0f",
   "metadata": {},
   "source": [
    "### Observation:\n",
    "- Found that oldest year is 1896.\n",
    "- Athletics has highest number of participation in the year 1896\n"
   ]
  },
  {
   "cell_type": "markdown",
   "id": "a1276d15",
   "metadata": {},
   "source": [
    "#### Q.2 Find the latest year and and find count of countries played in that year ?\n",
    "\n",
    "- same as above question"
   ]
  },
  {
   "cell_type": "code",
   "execution_count": 107,
   "id": "33f3abf8",
   "metadata": {},
   "outputs": [],
   "source": [
    "query = '''\n",
    "            SELECT \n",
    "                Name AS name,\n",
    "                Sex AS sex,\n",
    "                Team AS country,\n",
    "                Year AS year,\n",
    "                Season As season,\n",
    "                Sport AS sport\n",
    "            FROM \n",
    "                Olympics.olympics_history \n",
    "            WHERE \n",
    "                Year = (SELECT \n",
    "                            max(Year)\n",
    "                        FROM Olympics.olympics_history\n",
    "                        )\n",
    "        '''"
   ]
  },
  {
   "cell_type": "code",
   "execution_count": 108,
   "id": "3a0501ff",
   "metadata": {},
   "outputs": [],
   "source": [
    "olympics_data = pd.read_sql_query(query, mydb)"
   ]
  },
  {
   "cell_type": "code",
   "execution_count": 109,
   "id": "e83fb3f8",
   "metadata": {},
   "outputs": [
    {
     "data": {
      "text/html": [
       "<div>\n",
       "<style scoped>\n",
       "    .dataframe tbody tr th:only-of-type {\n",
       "        vertical-align: middle;\n",
       "    }\n",
       "\n",
       "    .dataframe tbody tr th {\n",
       "        vertical-align: top;\n",
       "    }\n",
       "\n",
       "    .dataframe thead th {\n",
       "        text-align: right;\n",
       "    }\n",
       "</style>\n",
       "<table border=\"1\" class=\"dataframe\">\n",
       "  <thead>\n",
       "    <tr style=\"text-align: right;\">\n",
       "      <th></th>\n",
       "      <th>name</th>\n",
       "      <th>sex</th>\n",
       "      <th>country</th>\n",
       "      <th>year</th>\n",
       "      <th>season</th>\n",
       "      <th>sport</th>\n",
       "    </tr>\n",
       "  </thead>\n",
       "  <tbody>\n",
       "    <tr>\n",
       "      <th>0</th>\n",
       "      <td>Andreea Aanei</td>\n",
       "      <td>F</td>\n",
       "      <td>Romania</td>\n",
       "      <td>2016</td>\n",
       "      <td>Summer</td>\n",
       "      <td>Weightlifting</td>\n",
       "    </tr>\n",
       "    <tr>\n",
       "      <th>1</th>\n",
       "      <td>Nstor Abad Sanjun</td>\n",
       "      <td>M</td>\n",
       "      <td>Spain</td>\n",
       "      <td>2016</td>\n",
       "      <td>Summer</td>\n",
       "      <td>Gymnastics</td>\n",
       "    </tr>\n",
       "    <tr>\n",
       "      <th>2</th>\n",
       "      <td>Nstor Abad Sanjun</td>\n",
       "      <td>M</td>\n",
       "      <td>Spain</td>\n",
       "      <td>2016</td>\n",
       "      <td>Summer</td>\n",
       "      <td>Gymnastics</td>\n",
       "    </tr>\n",
       "    <tr>\n",
       "      <th>3</th>\n",
       "      <td>Nstor Abad Sanjun</td>\n",
       "      <td>M</td>\n",
       "      <td>Spain</td>\n",
       "      <td>2016</td>\n",
       "      <td>Summer</td>\n",
       "      <td>Gymnastics</td>\n",
       "    </tr>\n",
       "    <tr>\n",
       "      <th>4</th>\n",
       "      <td>Nstor Abad Sanjun</td>\n",
       "      <td>M</td>\n",
       "      <td>Spain</td>\n",
       "      <td>2016</td>\n",
       "      <td>Summer</td>\n",
       "      <td>Gymnastics</td>\n",
       "    </tr>\n",
       "    <tr>\n",
       "      <th>...</th>\n",
       "      <td>...</td>\n",
       "      <td>...</td>\n",
       "      <td>...</td>\n",
       "      <td>...</td>\n",
       "      <td>...</td>\n",
       "      <td>...</td>\n",
       "    </tr>\n",
       "    <tr>\n",
       "      <th>13680</th>\n",
       "      <td>Marc Zwiebler</td>\n",
       "      <td>M</td>\n",
       "      <td>Germany</td>\n",
       "      <td>2016</td>\n",
       "      <td>Summer</td>\n",
       "      <td>Badminton</td>\n",
       "    </tr>\n",
       "    <tr>\n",
       "      <th>13681</th>\n",
       "      <td>Viktoriya Viktorovna Zyabkina</td>\n",
       "      <td>F</td>\n",
       "      <td>Kazakhstan</td>\n",
       "      <td>2016</td>\n",
       "      <td>Summer</td>\n",
       "      <td>Athletics</td>\n",
       "    </tr>\n",
       "    <tr>\n",
       "      <th>13682</th>\n",
       "      <td>Viktoriya Viktorovna Zyabkina</td>\n",
       "      <td>F</td>\n",
       "      <td>Kazakhstan</td>\n",
       "      <td>2016</td>\n",
       "      <td>Summer</td>\n",
       "      <td>Athletics</td>\n",
       "    </tr>\n",
       "    <tr>\n",
       "      <th>13683</th>\n",
       "      <td>Viktoriya Viktorovna Zyabkina</td>\n",
       "      <td>F</td>\n",
       "      <td>Kazakhstan</td>\n",
       "      <td>2016</td>\n",
       "      <td>Summer</td>\n",
       "      <td>Athletics</td>\n",
       "    </tr>\n",
       "    <tr>\n",
       "      <th>13684</th>\n",
       "      <td>Olga Igorevna Zyuzkova</td>\n",
       "      <td>F</td>\n",
       "      <td>Belarus</td>\n",
       "      <td>2016</td>\n",
       "      <td>Summer</td>\n",
       "      <td>Basketball</td>\n",
       "    </tr>\n",
       "  </tbody>\n",
       "</table>\n",
       "<p>13685 rows × 6 columns</p>\n",
       "</div>"
      ],
      "text/plain": [
       "                                name sex     country  year  season  \\\n",
       "0                      Andreea Aanei   F     Romania  2016  Summer   \n",
       "1                  Nstor Abad Sanjun   M       Spain  2016  Summer   \n",
       "2                  Nstor Abad Sanjun   M       Spain  2016  Summer   \n",
       "3                  Nstor Abad Sanjun   M       Spain  2016  Summer   \n",
       "4                  Nstor Abad Sanjun   M       Spain  2016  Summer   \n",
       "...                              ...  ..         ...   ...     ...   \n",
       "13680                  Marc Zwiebler   M     Germany  2016  Summer   \n",
       "13681  Viktoriya Viktorovna Zyabkina   F  Kazakhstan  2016  Summer   \n",
       "13682  Viktoriya Viktorovna Zyabkina   F  Kazakhstan  2016  Summer   \n",
       "13683  Viktoriya Viktorovna Zyabkina   F  Kazakhstan  2016  Summer   \n",
       "13684         Olga Igorevna Zyuzkova   F     Belarus  2016  Summer   \n",
       "\n",
       "               sport  \n",
       "0      Weightlifting  \n",
       "1         Gymnastics  \n",
       "2         Gymnastics  \n",
       "3         Gymnastics  \n",
       "4         Gymnastics  \n",
       "...              ...  \n",
       "13680      Badminton  \n",
       "13681      Athletics  \n",
       "13682      Athletics  \n",
       "13683      Athletics  \n",
       "13684     Basketball  \n",
       "\n",
       "[13685 rows x 6 columns]"
      ]
     },
     "execution_count": 109,
     "metadata": {},
     "output_type": "execute_result"
    }
   ],
   "source": [
    "olympics_data"
   ]
  },
  {
   "cell_type": "code",
   "execution_count": 110,
   "id": "c1437355",
   "metadata": {},
   "outputs": [
    {
     "data": {
      "text/plain": [
       "(array([ 0,  1,  2,  3,  4,  5,  6,  7,  8,  9, 10, 11, 12, 13, 14, 15, 16,\n",
       "        17, 18, 19, 20, 21, 22, 23, 24, 25, 26, 27, 28, 29, 30, 31, 32, 33]),\n",
       " [Text(0, 0, 'Athletics'),\n",
       "  Text(1, 0, 'Swimming'),\n",
       "  Text(2, 0, 'Gymnastics'),\n",
       "  Text(3, 0, 'Cycling'),\n",
       "  Text(4, 0, 'Shooting'),\n",
       "  Text(5, 0, 'Rowing'),\n",
       "  Text(6, 0, 'Football'),\n",
       "  Text(7, 0, 'Canoeing'),\n",
       "  Text(8, 0, 'Hockey'),\n",
       "  Text(9, 0, 'Judo'),\n",
       "  Text(10, 0, 'Sailing'),\n",
       "  Text(11, 0, 'Equestrianism'),\n",
       "  Text(12, 0, 'Handball'),\n",
       "  Text(13, 0, 'Fencing'),\n",
       "  Text(14, 0, 'Wrestling'),\n",
       "  Text(15, 0, 'Rugby Sevens'),\n",
       "  Text(16, 0, 'Tennis'),\n",
       "  Text(17, 0, 'Boxing'),\n",
       "  Text(18, 0, 'Volleyball'),\n",
       "  Text(19, 0, 'Basketball'),\n",
       "  Text(20, 0, 'Water Polo'),\n",
       "  Text(21, 0, 'Weightlifting'),\n",
       "  Text(22, 0, 'Table Tennis'),\n",
       "  Text(23, 0, 'Archery'),\n",
       "  Text(24, 0, 'Diving'),\n",
       "  Text(25, 0, 'Badminton'),\n",
       "  Text(26, 0, 'Taekwondo'),\n",
       "  Text(27, 0, 'Golf'),\n",
       "  Text(28, 0, 'Synchronized Swimming'),\n",
       "  Text(29, 0, 'Triathlon'),\n",
       "  Text(30, 0, 'Rhythmic Gymnastics'),\n",
       "  Text(31, 0, 'Beach Volleyball'),\n",
       "  Text(32, 0, 'Modern Pentathlon'),\n",
       "  Text(33, 0, 'Trampolining')])"
      ]
     },
     "execution_count": 110,
     "metadata": {},
     "output_type": "execute_result"
    },
    {
     "data": {
      "image/png": "[encoded data removed]",
      "text/plain": [
       "<Figure size 2520x1080 with 1 Axes>"
      ]
     },
     "metadata": {
      "needs_background": "light"
     },
     "output_type": "display_data"
    }
   ],
   "source": [
    "plt.figure(figsize=(35,15))\n",
    "ax=sns.countplot(x='sport',data=olympics_data,ec=\"black\",order=olympics_data[\"sport\"].value_counts().index)\n",
    "ax = ax.bar_label(ax.containers[0],fontsize=20)\n",
    "plt.ylabel(\"Count\", weight=\"bold\", fontsize=20)\n",
    "plt.xlabel(\"Sport\", weight=\"bold\", fontsize=20)\n",
    "plt.xticks(rotation = 40,fontsize=20)\n",
    "\n",
    "# hide this array result by storing final output into variable."
   ]
  },
  {
   "cell_type": "markdown",
   "id": "7bb35e53",
   "metadata": {},
   "source": [
    "### Observation:\n",
    "- Found that latest year is 2016.\n",
    "- Athletics has highest number of participation in the year 2016.\n"
   ]
  },
  {
   "cell_type": "markdown",
   "id": "8d050a75",
   "metadata": {},
   "source": [
    "#### Q.3 Which year saw the highest and lowest no of countries participating in olympics?\n",
    "\n",
    "- very good do it like below -  for above two questions"
   ]
  },
  {
   "cell_type": "code",
   "execution_count": 18,
   "id": "4e73e385",
   "metadata": {},
   "outputs": [],
   "source": [
    "query = '''\n",
    "WITH join_tables AS (\n",
    "    SELECT\n",
    "        olympics_history.Games as year,\n",
    "        COUNT(DISTINCT olympics_history_noc_regions.region) AS Country_region\n",
    "    FROM\n",
    "        Olympics.olympics_history\n",
    "    LEFT JOIN Olympics.olympics_history_noc_regions\n",
    "    ON olympics_history.noc=olympics_history_noc_regions.noc\n",
    "    GROUP BY 1\n",
    "),\n",
    "highest_lowest_count_row AS\n",
    "(\n",
    "    (\n",
    "        SELECT\n",
    "            * \n",
    "        FROM \n",
    "            join_tables\n",
    "        ORDER BY \n",
    "            Country_region ASC \n",
    "        LIMIT 1\n",
    "    )\n",
    "UNION ALL\n",
    "    (\n",
    "        SELECT\n",
    "            * \n",
    "        FROM \n",
    "            join_tables\n",
    "        ORDER BY \n",
    "            Country_region DESC \n",
    "        LIMIT 1\n",
    "    )\n",
    ")\n",
    "SELECT \n",
    "    * \n",
    "FROM \n",
    "    highest_lowest_count_row\n",
    "'''"
   ]
  },
  {
   "cell_type": "code",
   "execution_count": 19,
   "id": "91ab73a1",
   "metadata": {},
   "outputs": [],
   "source": [
    "olympics_data = pd.read_sql_query(query, mydb)"
   ]
  },
  {
   "cell_type": "code",
   "execution_count": 20,
   "id": "40d8089d",
   "metadata": {},
   "outputs": [
    {
     "data": {
      "text/html": [
       "<div>\n",
       "<style scoped>\n",
       "    .dataframe tbody tr th:only-of-type {\n",
       "        vertical-align: middle;\n",
       "    }\n",
       "\n",
       "    .dataframe tbody tr th {\n",
       "        vertical-align: top;\n",
       "    }\n",
       "\n",
       "    .dataframe thead th {\n",
       "        text-align: right;\n",
       "    }\n",
       "</style>\n",
       "<table border=\"1\" class=\"dataframe\">\n",
       "  <thead>\n",
       "    <tr style=\"text-align: right;\">\n",
       "      <th></th>\n",
       "      <th>year</th>\n",
       "      <th>Country_region</th>\n",
       "    </tr>\n",
       "  </thead>\n",
       "  <tbody>\n",
       "    <tr>\n",
       "      <th>0</th>\n",
       "      <td>1896 Summer</td>\n",
       "      <td>11</td>\n",
       "    </tr>\n",
       "    <tr>\n",
       "      <th>1</th>\n",
       "      <td>2016 Summer</td>\n",
       "      <td>204</td>\n",
       "    </tr>\n",
       "  </tbody>\n",
       "</table>\n",
       "</div>"
      ],
      "text/plain": [
       "          year  Country_region\n",
       "0  1896 Summer              11\n",
       "1  2016 Summer             204"
      ]
     },
     "execution_count": 20,
     "metadata": {},
     "output_type": "execute_result"
    }
   ],
   "source": [
    "olympics_data"
   ]
  },
  {
   "cell_type": "code",
   "execution_count": 114,
   "id": "1e9159c2",
   "metadata": {},
   "outputs": [
    {
     "data": {
      "image/png": "[encoded data removed]",
      "text/plain": [
       "<Figure size 432x288 with 1 Axes>"
      ]
     },
     "metadata": {
      "needs_background": "light"
     },
     "output_type": "display_data"
    }
   ],
   "source": [
    "plt.figure(figsize=(6,4))\n",
    "ax=sns.barplot(x = 'year', y = 'Country_region', data=olympics_data)\n",
    "plt.xlabel(\"Year\")\n",
    "plt.ylabel(\"Count_countries\")\n",
    "ax = ax.bar_label(ax.containers[0])"
   ]
  },
  {
   "cell_type": "markdown",
   "id": "e4558567",
   "metadata": {},
   "source": [
    "#### Observation\n",
    "- 1896 Summer olympics games has lowest count of 11 nations participating in an Olympic games.\n",
    "- 2016 Summer olympics games has highest count of 204 nations participating in an Olympic games."
   ]
  },
  {
   "cell_type": "markdown",
   "id": "526607ba",
   "metadata": {},
   "source": [
    "#### Q.4 Which nation has participated in all of the olympic games.\n",
    "- format query as above - rest all good"
   ]
  },
  {
   "cell_type": "code",
   "execution_count": 115,
   "id": "8b2d6b78",
   "metadata": {},
   "outputs": [],
   "source": [
    "query = '''\n",
    "WITH join_table AS\n",
    "(SELECT\n",
    "olympics_history.Games AS games,\n",
    "olympics_history_noc_regions.region AS country_regions\n",
    "FROM\n",
    "Olympics.olympics_history\n",
    "LEFT JOIN Olympics.olympics_history_noc_regions\n",
    "ON\n",
    "olympics_history.noc=olympics_history_noc_regions.noc\n",
    "),\n",
    "total_games AS\n",
    "(\n",
    "SELECT\n",
    "COUNT(DISTINCT games) AS total_games_olympics\n",
    "FROM\n",
    "join_table\n",
    "),\n",
    "total_games_countries AS\n",
    "(\n",
    "SELECT\n",
    "country_regions,\n",
    "COUNT(DISTINCT games) AS total_games_country\n",
    "FROM\n",
    "join_table\n",
    "GROUP BY 1\n",
    ")\n",
    "SELECT country_regions,total_games_country fROM total_games_countries\n",
    "JOIN total_games ON total_games.total_games_olympics=total_games_countries.total_games_country\n",
    "\n",
    "'''"
   ]
  },
  {
   "cell_type": "code",
   "execution_count": 116,
   "id": "cd0cd01b",
   "metadata": {},
   "outputs": [],
   "source": [
    "olympics_data = pd.read_sql_query(query, mydb)"
   ]
  },
  {
   "cell_type": "code",
   "execution_count": 117,
   "id": "2612a6bc",
   "metadata": {},
   "outputs": [
    {
     "data": {
      "text/html": [
       "<div>\n",
       "<style scoped>\n",
       "    .dataframe tbody tr th:only-of-type {\n",
       "        vertical-align: middle;\n",
       "    }\n",
       "\n",
       "    .dataframe tbody tr th {\n",
       "        vertical-align: top;\n",
       "    }\n",
       "\n",
       "    .dataframe thead th {\n",
       "        text-align: right;\n",
       "    }\n",
       "</style>\n",
       "<table border=\"1\" class=\"dataframe\">\n",
       "  <thead>\n",
       "    <tr style=\"text-align: right;\">\n",
       "      <th></th>\n",
       "      <th>country_regions</th>\n",
       "      <th>total_games_country</th>\n",
       "    </tr>\n",
       "  </thead>\n",
       "  <tbody>\n",
       "    <tr>\n",
       "      <th>0</th>\n",
       "      <td>Switzerland</td>\n",
       "      <td>51</td>\n",
       "    </tr>\n",
       "    <tr>\n",
       "      <th>1</th>\n",
       "      <td>UK</td>\n",
       "      <td>51</td>\n",
       "    </tr>\n",
       "  </tbody>\n",
       "</table>\n",
       "</div>"
      ],
      "text/plain": [
       "  country_regions  total_games_country\n",
       "0     Switzerland                   51\n",
       "1              UK                   51"
      ]
     },
     "execution_count": 117,
     "metadata": {},
     "output_type": "execute_result"
    }
   ],
   "source": [
    "olympics_data"
   ]
  },
  {
   "cell_type": "markdown",
   "id": "2edc3741",
   "metadata": {},
   "source": [
    "#### Observation:\n",
    "- There are total 51 games played in all olympic games.\n",
    "- Switzerland and UK are the only countries which participated in all olympic games.\n"
   ]
  },
  {
   "cell_type": "code",
   "execution_count": 118,
   "id": "dd5e5cba",
   "metadata": {},
   "outputs": [
    {
     "data": {
      "image/png": "[encoded data removed]",
      "text/plain": [
       "<Figure size 576x288 with 1 Axes>"
      ]
     },
     "metadata": {
      "needs_background": "light"
     },
     "output_type": "display_data"
    }
   ],
   "source": [
    "plt.figure(figsize=(8,4))\n",
    "\n",
    "\n",
    "ax=sns.barplot(x = 'country_regions', y = 'total_games_country', data=olympics_data)\n",
    "plt.xlabel(\"Countries\")\n",
    "plt.ylabel(\"Count_games\")\n",
    "ax = ax.bar_label(ax.containers[0])"
   ]
  },
  {
   "cell_type": "markdown",
   "id": "a1f87792",
   "metadata": {},
   "source": [
    "#### Q.5 Identify the sport which was played in all summer olympics. -Do afterwards\n",
    "- format query as above - plat bar chat"
   ]
  },
  {
   "cell_type": "code",
   "execution_count": 119,
   "id": "00c6a91c",
   "metadata": {},
   "outputs": [],
   "source": [
    "query ='''\n",
    "WITH count_summer_olympics AS\n",
    "(\n",
    "SELECT\n",
    "COUNT(DISTINCT Games) AS olympics_year_count\n",
    "FROM\n",
    "Olympics.olympics_history\n",
    "WHERE games LIKE '%Summer%'\n",
    "),\n",
    "sports_count_name AS\n",
    "(\n",
    "SELECT\n",
    "Sport,\n",
    "Games\n",
    "FROM\n",
    "Olympics.olympics_history\n",
    "WHERE games LIKE '%Summer%'\n",
    "),\n",
    "total_sports_count AS\n",
    "(\n",
    "SELECT\n",
    "Sport,\n",
    "COUNT(DISTINCT Games) AS sport_number_count\n",
    "FROM\n",
    "Olympics.olympics_history\n",
    "GROUP BY Sport\n",
    ")\n",
    "SELECT * FROM total_sports_count\n",
    "'''"
   ]
  },
  {
   "cell_type": "code",
   "execution_count": 120,
   "id": "58e4c8d3",
   "metadata": {},
   "outputs": [],
   "source": [
    "olympics_data = pd.read_sql_query(query, mydb)"
   ]
  },
  {
   "cell_type": "code",
   "execution_count": 121,
   "id": "a3ea84f2",
   "metadata": {},
   "outputs": [
    {
     "data": {
      "text/html": [
       "<div>\n",
       "<style scoped>\n",
       "    .dataframe tbody tr th:only-of-type {\n",
       "        vertical-align: middle;\n",
       "    }\n",
       "\n",
       "    .dataframe tbody tr th {\n",
       "        vertical-align: top;\n",
       "    }\n",
       "\n",
       "    .dataframe thead th {\n",
       "        text-align: right;\n",
       "    }\n",
       "</style>\n",
       "<table border=\"1\" class=\"dataframe\">\n",
       "  <thead>\n",
       "    <tr style=\"text-align: right;\">\n",
       "      <th></th>\n",
       "      <th>Sport</th>\n",
       "      <th>sport_number_count</th>\n",
       "    </tr>\n",
       "  </thead>\n",
       "  <tbody>\n",
       "    <tr>\n",
       "      <th>0</th>\n",
       "      <td>Aeronautics</td>\n",
       "      <td>1</td>\n",
       "    </tr>\n",
       "    <tr>\n",
       "      <th>1</th>\n",
       "      <td>Alpine Skiing</td>\n",
       "      <td>19</td>\n",
       "    </tr>\n",
       "    <tr>\n",
       "      <th>2</th>\n",
       "      <td>Alpinism</td>\n",
       "      <td>3</td>\n",
       "    </tr>\n",
       "    <tr>\n",
       "      <th>3</th>\n",
       "      <td>Archery</td>\n",
       "      <td>16</td>\n",
       "    </tr>\n",
       "    <tr>\n",
       "      <th>4</th>\n",
       "      <td>Art Competitions</td>\n",
       "      <td>7</td>\n",
       "    </tr>\n",
       "    <tr>\n",
       "      <th>...</th>\n",
       "      <td>...</td>\n",
       "      <td>...</td>\n",
       "    </tr>\n",
       "    <tr>\n",
       "      <th>61</th>\n",
       "      <td>Tug-Of-War</td>\n",
       "      <td>6</td>\n",
       "    </tr>\n",
       "    <tr>\n",
       "      <th>62</th>\n",
       "      <td>Volleyball</td>\n",
       "      <td>14</td>\n",
       "    </tr>\n",
       "    <tr>\n",
       "      <th>63</th>\n",
       "      <td>Water Polo</td>\n",
       "      <td>27</td>\n",
       "    </tr>\n",
       "    <tr>\n",
       "      <th>64</th>\n",
       "      <td>Weightlifting</td>\n",
       "      <td>26</td>\n",
       "    </tr>\n",
       "    <tr>\n",
       "      <th>65</th>\n",
       "      <td>Wrestling</td>\n",
       "      <td>28</td>\n",
       "    </tr>\n",
       "  </tbody>\n",
       "</table>\n",
       "<p>66 rows × 2 columns</p>\n",
       "</div>"
      ],
      "text/plain": [
       "               Sport  sport_number_count\n",
       "0        Aeronautics                   1\n",
       "1      Alpine Skiing                  19\n",
       "2           Alpinism                   3\n",
       "3            Archery                  16\n",
       "4   Art Competitions                   7\n",
       "..               ...                 ...\n",
       "61        Tug-Of-War                   6\n",
       "62        Volleyball                  14\n",
       "63        Water Polo                  27\n",
       "64     Weightlifting                  26\n",
       "65         Wrestling                  28\n",
       "\n",
       "[66 rows x 2 columns]"
      ]
     },
     "execution_count": 121,
     "metadata": {},
     "output_type": "execute_result"
    }
   ],
   "source": [
    "olympics_data"
   ]
  },
  {
   "cell_type": "markdown",
   "id": "1aae71d1",
   "metadata": {},
   "source": [
    "#### Q.6. Which Sports were just played only once in the olympics.\n",
    "- all values are same better use tree map or word cloud to plot look good"
   ]
  },
  {
   "cell_type": "code",
   "execution_count": 122,
   "id": "6d36ba25",
   "metadata": {},
   "outputs": [],
   "source": [
    "query='''\n",
    "WITH olympic_history_cte AS (\n",
    "SELECT\n",
    "sport,\n",
    "Games AS games\n",
    "FROM \n",
    "Olympics.olympics_history\n",
    "),\n",
    "count_number_sports AS (\n",
    "SELECT\n",
    "sport,\n",
    "count(DISTINCT games) AS number_of_played_games\n",
    "FROM olympic_history_cte\n",
    "GROUP BY 1\n",
    ")\n",
    "SELECT\n",
    "sport,\n",
    "number_of_played_games\n",
    "FROM\n",
    "count_number_sports\n",
    "WHERE number_of_played_games = 1\n",
    "ORDER BY 2 asc\n",
    "\n",
    "'''"
   ]
  },
  {
   "cell_type": "code",
   "execution_count": 123,
   "id": "cec7e0cc",
   "metadata": {},
   "outputs": [],
   "source": [
    "olympics_data = pd.read_sql_query(query, mydb)"
   ]
  },
  {
   "cell_type": "code",
   "execution_count": 124,
   "id": "02e1dbbe",
   "metadata": {},
   "outputs": [
    {
     "data": {
      "text/html": [
       "<div>\n",
       "<style scoped>\n",
       "    .dataframe tbody tr th:only-of-type {\n",
       "        vertical-align: middle;\n",
       "    }\n",
       "\n",
       "    .dataframe tbody tr th {\n",
       "        vertical-align: top;\n",
       "    }\n",
       "\n",
       "    .dataframe thead th {\n",
       "        text-align: right;\n",
       "    }\n",
       "</style>\n",
       "<table border=\"1\" class=\"dataframe\">\n",
       "  <thead>\n",
       "    <tr style=\"text-align: right;\">\n",
       "      <th></th>\n",
       "      <th>sport</th>\n",
       "      <th>number_of_played_games</th>\n",
       "    </tr>\n",
       "  </thead>\n",
       "  <tbody>\n",
       "    <tr>\n",
       "      <th>0</th>\n",
       "      <td>Aeronautics</td>\n",
       "      <td>1</td>\n",
       "    </tr>\n",
       "    <tr>\n",
       "      <th>1</th>\n",
       "      <td>Basque Pelota</td>\n",
       "      <td>1</td>\n",
       "    </tr>\n",
       "    <tr>\n",
       "      <th>2</th>\n",
       "      <td>Cricket</td>\n",
       "      <td>1</td>\n",
       "    </tr>\n",
       "    <tr>\n",
       "      <th>3</th>\n",
       "      <td>Croquet</td>\n",
       "      <td>1</td>\n",
       "    </tr>\n",
       "    <tr>\n",
       "      <th>4</th>\n",
       "      <td>Jeu De Paume</td>\n",
       "      <td>1</td>\n",
       "    </tr>\n",
       "    <tr>\n",
       "      <th>5</th>\n",
       "      <td>Military Ski Patrol</td>\n",
       "      <td>1</td>\n",
       "    </tr>\n",
       "    <tr>\n",
       "      <th>6</th>\n",
       "      <td>Motorboating</td>\n",
       "      <td>1</td>\n",
       "    </tr>\n",
       "    <tr>\n",
       "      <th>7</th>\n",
       "      <td>Racquets</td>\n",
       "      <td>1</td>\n",
       "    </tr>\n",
       "    <tr>\n",
       "      <th>8</th>\n",
       "      <td>Roque</td>\n",
       "      <td>1</td>\n",
       "    </tr>\n",
       "    <tr>\n",
       "      <th>9</th>\n",
       "      <td>Rugby Sevens</td>\n",
       "      <td>1</td>\n",
       "    </tr>\n",
       "  </tbody>\n",
       "</table>\n",
       "</div>"
      ],
      "text/plain": [
       "                 sport  number_of_played_games\n",
       "0          Aeronautics                       1\n",
       "1        Basque Pelota                       1\n",
       "2              Cricket                       1\n",
       "3              Croquet                       1\n",
       "4         Jeu De Paume                       1\n",
       "5  Military Ski Patrol                       1\n",
       "6         Motorboating                       1\n",
       "7             Racquets                       1\n",
       "8                Roque                       1\n",
       "9         Rugby Sevens                       1"
      ]
     },
     "execution_count": 124,
     "metadata": {},
     "output_type": "execute_result"
    }
   ],
   "source": [
    "olympics_data"
   ]
  },
  {
   "cell_type": "code",
   "execution_count": 125,
   "id": "6a1e475d",
   "metadata": {},
   "outputs": [
    {
     "data": {
      "image/png": "[encoded data removed]",
      "text/plain": [
       "<Figure size 1800x504 with 1 Axes>"
      ]
     },
     "metadata": {
      "needs_background": "light"
     },
     "output_type": "display_data"
    }
   ],
   "source": [
    "plt.figure(figsize=(25,7))\n",
    "\n",
    "\n",
    "ax=sns.barplot(x = 'sport', y = 'number_of_played_games', data=olympics_data)\n",
    "plt.xlabel(\"Countries\",weight=\"bold\", fontsize=20)\n",
    "plt.ylabel(\"Count_games\",weight=\"bold\", fontsize=20)\n",
    "ax = ax.bar_label(ax.containers[0])"
   ]
  },
  {
   "cell_type": "markdown",
   "id": "8a00884e",
   "metadata": {},
   "source": [
    "### Observation:\n",
    "- Aeronautics,Basque Pelota,Cricket,Croquet,Jeu De Paume,Military Ski Patrol,Motorboating,Racquets,Roque,Rugby Sevens are the games which are only played once in the olympics.\n",
    "- Number of athletes participated in mentioned games were in less count.Hence sports count was 1 in the dataset. "
   ]
  },
  {
   "cell_type": "markdown",
   "id": "0346c1b8",
   "metadata": {},
   "source": [
    "#### Q.7  Fetch oldest athletes to win a gold medal\n",
    "- oldest atheltes? - they gave olympic year right? correct question if so.\n",
    "- format query as above - rest all good "
   ]
  },
  {
   "cell_type": "code",
   "execution_count": 126,
   "id": "5171651b",
   "metadata": {},
   "outputs": [],
   "source": [
    "query='''\n",
    "WITH olympics_cte AS\n",
    "(\n",
    "SELECT\n",
    "name,\n",
    "sex,\n",
    "CASE WHEN age = 'NA' then '0' ELSE age END AS age,\n",
    "team,\n",
    "Games AS games,\n",
    "city,\n",
    "Sport AS sport,\n",
    "event,\n",
    "medal\n",
    "FROM\n",
    "Olympics.olympics_history\n",
    "),\n",
    "ranking as\n",
    "(\n",
    "SELECT\n",
    "* ,\n",
    "DENSE_RANK() OVER( ORDER BY age DESC) AS age_rnk\n",
    "FROM\n",
    "olympics_cte\n",
    "where MEDAL = 'Gold' \n",
    ")\n",
    "SELECT\n",
    "*\n",
    "FROM\n",
    "ranking\n",
    "WHERE\n",
    "age_rnk=1\n",
    "\n",
    "'''"
   ]
  },
  {
   "cell_type": "code",
   "execution_count": 127,
   "id": "aff6500c",
   "metadata": {},
   "outputs": [],
   "source": [
    "olympics_data = pd.read_sql_query(query, mydb)"
   ]
  },
  {
   "cell_type": "code",
   "execution_count": 128,
   "id": "84e2261b",
   "metadata": {},
   "outputs": [
    {
     "data": {
      "text/html": [
       "<div>\n",
       "<style scoped>\n",
       "    .dataframe tbody tr th:only-of-type {\n",
       "        vertical-align: middle;\n",
       "    }\n",
       "\n",
       "    .dataframe tbody tr th {\n",
       "        vertical-align: top;\n",
       "    }\n",
       "\n",
       "    .dataframe thead th {\n",
       "        text-align: right;\n",
       "    }\n",
       "</style>\n",
       "<table border=\"1\" class=\"dataframe\">\n",
       "  <thead>\n",
       "    <tr style=\"text-align: right;\">\n",
       "      <th></th>\n",
       "      <th>name</th>\n",
       "      <th>sex</th>\n",
       "      <th>age</th>\n",
       "      <th>team</th>\n",
       "      <th>games</th>\n",
       "      <th>city</th>\n",
       "      <th>sport</th>\n",
       "      <th>event</th>\n",
       "      <th>medal</th>\n",
       "      <th>age_rnk</th>\n",
       "    </tr>\n",
       "  </thead>\n",
       "  <tbody>\n",
       "    <tr>\n",
       "      <th>0</th>\n",
       "      <td>Oscar Gomer Swahn</td>\n",
       "      <td>M</td>\n",
       "      <td>64</td>\n",
       "      <td>Sweden</td>\n",
       "      <td>1912 Summer</td>\n",
       "      <td>Stockholm</td>\n",
       "      <td>Shooting</td>\n",
       "      <td>Shooting Men's Running Target, Single Shot, Team</td>\n",
       "      <td>Gold</td>\n",
       "      <td>1</td>\n",
       "    </tr>\n",
       "    <tr>\n",
       "      <th>1</th>\n",
       "      <td>Charles Jacobus</td>\n",
       "      <td>M</td>\n",
       "      <td>64</td>\n",
       "      <td>United States</td>\n",
       "      <td>1904 Summer</td>\n",
       "      <td>St. Louis</td>\n",
       "      <td>Roque</td>\n",
       "      <td>Roque Men's Singles</td>\n",
       "      <td>Gold</td>\n",
       "      <td>1</td>\n",
       "    </tr>\n",
       "  </tbody>\n",
       "</table>\n",
       "</div>"
      ],
      "text/plain": [
       "                name sex age           team        games       city     sport  \\\n",
       "0  Oscar Gomer Swahn   M  64         Sweden  1912 Summer  Stockholm  Shooting   \n",
       "1    Charles Jacobus   M  64  United States  1904 Summer  St. Louis     Roque   \n",
       "\n",
       "                                              event medal  age_rnk  \n",
       "0  Shooting Men's Running Target, Single Shot, Team  Gold        1  \n",
       "1                               Roque Men's Singles  Gold        1  "
      ]
     },
     "execution_count": 128,
     "metadata": {},
     "output_type": "execute_result"
    }
   ],
   "source": [
    "olympics_data"
   ]
  },
  {
   "cell_type": "markdown",
   "id": "e94ec7b5",
   "metadata": {},
   "source": [
    "#### Observation:\n",
    "- Oscar Gomer Swahn won oldest Gold medal in 1912 Summer olympics games for shooting at the age of 64.\n",
    "- Charles Jacobus won oldest Gold medal in 1904 Summer olympics games for Roque at the age of 64."
   ]
  },
  {
   "cell_type": "markdown",
   "id": "ba5cc6cd",
   "metadata": {},
   "source": [
    "#### Q.8 Fetch the top 5 athletes who have won the most medals (gold/silver/bronze). \n",
    "- format query as above - rest all good"
   ]
  },
  {
   "cell_type": "code",
   "execution_count": 129,
   "id": "bded0851",
   "metadata": {},
   "outputs": [],
   "source": [
    "query='''\n",
    "WITH olympics_cte AS\n",
    "(\n",
    "SELECT\n",
    "name,team,medal\n",
    "FROM Olympics.olympics_history\n",
    "),\n",
    "total_medal_cte AS\n",
    "(\n",
    "SELECT\n",
    "name,\n",
    "team,\n",
    "COUNT(medal) AS medal_count\n",
    "FROM olympics_cte\n",
    "GROUP BY 1,2\n",
    "ORDER BY medal_count\n",
    "),\n",
    "\n",
    "top_five_athletes AS\n",
    "(\n",
    "select *,\n",
    "DENSE_RANK() OVER(ORDER BY medal_count desc) AS top_5_medal_count\n",
    "FROM total_medal_cte\n",
    ")\n",
    "SELECT * FROM top_five_athletes\n",
    "WHERE top_5_medal_count <=5 ;\n",
    "\n",
    "'''"
   ]
  },
  {
   "cell_type": "code",
   "execution_count": 130,
   "id": "28aab672",
   "metadata": {},
   "outputs": [],
   "source": [
    "olympics_data = pd.read_sql_query(query, mydb)"
   ]
  },
  {
   "cell_type": "code",
   "execution_count": 131,
   "id": "0acb5b33",
   "metadata": {},
   "outputs": [
    {
     "data": {
      "text/html": [
       "<div>\n",
       "<style scoped>\n",
       "    .dataframe tbody tr th:only-of-type {\n",
       "        vertical-align: middle;\n",
       "    }\n",
       "\n",
       "    .dataframe tbody tr th {\n",
       "        vertical-align: top;\n",
       "    }\n",
       "\n",
       "    .dataframe thead th {\n",
       "        text-align: right;\n",
       "    }\n",
       "</style>\n",
       "<table border=\"1\" class=\"dataframe\">\n",
       "  <thead>\n",
       "    <tr style=\"text-align: right;\">\n",
       "      <th></th>\n",
       "      <th>name</th>\n",
       "      <th>team</th>\n",
       "      <th>medal_count</th>\n",
       "      <th>top_5_medal_count</th>\n",
       "    </tr>\n",
       "  </thead>\n",
       "  <tbody>\n",
       "    <tr>\n",
       "      <th>0</th>\n",
       "      <td>Robert Tait McKenzie</td>\n",
       "      <td>Canada</td>\n",
       "      <td>58</td>\n",
       "      <td>1</td>\n",
       "    </tr>\n",
       "    <tr>\n",
       "      <th>1</th>\n",
       "      <td>Heikki Ilmari Savolainen</td>\n",
       "      <td>Finland</td>\n",
       "      <td>39</td>\n",
       "      <td>2</td>\n",
       "    </tr>\n",
       "    <tr>\n",
       "      <th>2</th>\n",
       "      <td>Joseph \"Josy\"\" Stoffel\"</td>\n",
       "      <td>Luxembourg</td>\n",
       "      <td>38</td>\n",
       "      <td>3</td>\n",
       "    </tr>\n",
       "    <tr>\n",
       "      <th>3</th>\n",
       "      <td>Takashi Ono</td>\n",
       "      <td>Japan</td>\n",
       "      <td>33</td>\n",
       "      <td>4</td>\n",
       "    </tr>\n",
       "    <tr>\n",
       "      <th>4</th>\n",
       "      <td>Alfrd (Arnold-) Hajs (Guttmann-)</td>\n",
       "      <td>Hungary</td>\n",
       "      <td>32</td>\n",
       "      <td>5</td>\n",
       "    </tr>\n",
       "    <tr>\n",
       "      <th>5</th>\n",
       "      <td>Jean Lucien Nicolas Jacoby</td>\n",
       "      <td>Luxembourg</td>\n",
       "      <td>32</td>\n",
       "      <td>5</td>\n",
       "    </tr>\n",
       "  </tbody>\n",
       "</table>\n",
       "</div>"
      ],
      "text/plain": [
       "                               name        team  medal_count  \\\n",
       "0              Robert Tait McKenzie      Canada           58   \n",
       "1          Heikki Ilmari Savolainen     Finland           39   \n",
       "2           Joseph \"Josy\"\" Stoffel\"  Luxembourg           38   \n",
       "3                       Takashi Ono       Japan           33   \n",
       "4  Alfrd (Arnold-) Hajs (Guttmann-)     Hungary           32   \n",
       "5        Jean Lucien Nicolas Jacoby  Luxembourg           32   \n",
       "\n",
       "   top_5_medal_count  \n",
       "0                  1  \n",
       "1                  2  \n",
       "2                  3  \n",
       "3                  4  \n",
       "4                  5  \n",
       "5                  5  "
      ]
     },
     "execution_count": 131,
     "metadata": {},
     "output_type": "execute_result"
    }
   ],
   "source": [
    "olympics_data"
   ]
  },
  {
   "cell_type": "code",
   "execution_count": 132,
   "id": "4ae64269",
   "metadata": {},
   "outputs": [
    {
     "data": {
      "text/plain": [
       "(array([0, 1, 2, 3, 4, 5]),\n",
       " [Text(0, 0, 'Robert Tait McKenzie'),\n",
       "  Text(1, 0, 'Heikki Ilmari Savolainen'),\n",
       "  Text(2, 0, 'Joseph \"Josy\"\" Stoffel\"'),\n",
       "  Text(3, 0, 'Takashi Ono'),\n",
       "  Text(4, 0, 'Alfrd (Arnold-) Hajs (Guttmann-)'),\n",
       "  Text(5, 0, 'Jean Lucien Nicolas Jacoby')])"
      ]
     },
     "execution_count": 132,
     "metadata": {},
     "output_type": "execute_result"
    },
    {
     "data": {
      "image/png": "[encoded data removed]",
      "text/plain": [
       "<Figure size 2520x864 with 1 Axes>"
      ]
     },
     "metadata": {
      "needs_background": "light"
     },
     "output_type": "display_data"
    }
   ],
   "source": [
    "plt.figure(figsize=(35,12))\n",
    "ax=sns.barplot(x = 'name', y = 'medal_count', data=olympics_data)\n",
    "plt.xlabel(\"Countries\",fontsize=20,weight=\"bold\")\n",
    "plt.ylabel(\"medal_count\",fontsize=20,weight=\"bold\")\n",
    "ax = ax.bar_label(ax.containers[0],fontsize=20)\n",
    "plt.xticks(rotation = 30,fontsize=20)"
   ]
  },
  {
   "cell_type": "markdown",
   "id": "eeea49ef",
   "metadata": {},
   "source": [
    "#### Observation\n",
    "- **Robert Tait** have won most of the medals with the count of **58** while **Alferd and Jean** have won least medals with the count of **32**."
   ]
  },
  {
   "cell_type": "markdown",
   "id": "a0ca63c8",
   "metadata": {},
   "source": [
    "#### Q.9 Fetch the top 5 most successful countries in olympics. Success is defined by no of medals won.\n",
    "- format query as above - you can add one more pie chart to show which country contribute how much success in top 5"
   ]
  },
  {
   "cell_type": "code",
   "execution_count": 133,
   "id": "5a32f324",
   "metadata": {},
   "outputs": [],
   "source": [
    "query='''\n",
    "WITH join_tables_cte AS(\n",
    "SELECT\n",
    "olympics_history_noc_regions.region AS region,\n",
    "olympics_history.medal AS medal_cnt\n",
    "FROM\n",
    "Olympics.olympics_history\n",
    "LEFT JOIN\n",
    "Olympics.olympics_history_noc_regions\n",
    "ON\n",
    "olympics_history_noc_regions.noc=olympics_history.noc\n",
    "WHERE medal <> 'NA'\n",
    "),\n",
    "medal_count_cte AS(\n",
    "SELECT\n",
    "region,\n",
    "COUNT(medal_cnt) AS medal_count\n",
    "FROM join_tables_cte\n",
    "GROUP BY region\n",
    "),\n",
    "top_five_countries_cte AS(\n",
    "SELECT *,\n",
    "DENSE_RANK() OVER (ORDER BY medal_count DESC) AS rnk\n",
    "FROM\n",
    "medal_count_cte\n",
    ")\n",
    "\n",
    "SELECT * FROM top_five_countries_cte\n",
    "WHERE rnk <=5;\n",
    "\n",
    "'''"
   ]
  },
  {
   "cell_type": "code",
   "execution_count": 134,
   "id": "b3a9a94c",
   "metadata": {},
   "outputs": [],
   "source": [
    "olympics_data = pd.read_sql_query(query, mydb)"
   ]
  },
  {
   "cell_type": "code",
   "execution_count": 135,
   "id": "87e9859f",
   "metadata": {},
   "outputs": [
    {
     "data": {
      "text/html": [
       "<div>\n",
       "<style scoped>\n",
       "    .dataframe tbody tr th:only-of-type {\n",
       "        vertical-align: middle;\n",
       "    }\n",
       "\n",
       "    .dataframe tbody tr th {\n",
       "        vertical-align: top;\n",
       "    }\n",
       "\n",
       "    .dataframe thead th {\n",
       "        text-align: right;\n",
       "    }\n",
       "</style>\n",
       "<table border=\"1\" class=\"dataframe\">\n",
       "  <thead>\n",
       "    <tr style=\"text-align: right;\">\n",
       "      <th></th>\n",
       "      <th>region</th>\n",
       "      <th>medal_count</th>\n",
       "      <th>rnk</th>\n",
       "    </tr>\n",
       "  </thead>\n",
       "  <tbody>\n",
       "    <tr>\n",
       "      <th>0</th>\n",
       "      <td>USA</td>\n",
       "      <td>5392</td>\n",
       "      <td>1</td>\n",
       "    </tr>\n",
       "    <tr>\n",
       "      <th>1</th>\n",
       "      <td>Russia</td>\n",
       "      <td>3942</td>\n",
       "      <td>2</td>\n",
       "    </tr>\n",
       "    <tr>\n",
       "      <th>2</th>\n",
       "      <td>Germany</td>\n",
       "      <td>3719</td>\n",
       "      <td>3</td>\n",
       "    </tr>\n",
       "    <tr>\n",
       "      <th>3</th>\n",
       "      <td>UK</td>\n",
       "      <td>1963</td>\n",
       "      <td>4</td>\n",
       "    </tr>\n",
       "    <tr>\n",
       "      <th>4</th>\n",
       "      <td>France</td>\n",
       "      <td>1681</td>\n",
       "      <td>5</td>\n",
       "    </tr>\n",
       "  </tbody>\n",
       "</table>\n",
       "</div>"
      ],
      "text/plain": [
       "    region  medal_count  rnk\n",
       "0      USA         5392    1\n",
       "1   Russia         3942    2\n",
       "2  Germany         3719    3\n",
       "3       UK         1963    4\n",
       "4   France         1681    5"
      ]
     },
     "execution_count": 135,
     "metadata": {},
     "output_type": "execute_result"
    }
   ],
   "source": [
    "olympics_data"
   ]
  },
  {
   "cell_type": "code",
   "execution_count": 136,
   "id": "d870f94c",
   "metadata": {},
   "outputs": [
    {
     "data": {
      "text/plain": [
       "(array([0, 1, 2, 3, 4]),\n",
       " [Text(0, 0, 'USA'),\n",
       "  Text(1, 0, 'Russia'),\n",
       "  Text(2, 0, 'Germany'),\n",
       "  Text(3, 0, 'UK'),\n",
       "  Text(4, 0, 'France')])"
      ]
     },
     "execution_count": 136,
     "metadata": {},
     "output_type": "execute_result"
    },
    {
     "data": {
      "image/png": "[encoded data removed]",
      "text/plain": [
       "<Figure size 2520x864 with 1 Axes>"
      ]
     },
     "metadata": {
      "needs_background": "light"
     },
     "output_type": "display_data"
    }
   ],
   "source": [
    "plt.figure(figsize=(35,12))\n",
    "ax=sns.barplot(x = 'region', y = 'medal_count', data=olympics_data)\n",
    "plt.xlabel(\"Countries\",fontsize=20,weight=\"bold\")\n",
    "plt.ylabel(\"medal_count\",fontsize=20,weight=\"bold\")\n",
    "ax = ax.bar_label(ax.containers[0],fontsize=20)\n",
    "plt.xticks(rotation = 30,fontsize=20)"
   ]
  },
  {
   "cell_type": "markdown",
   "id": "738b3430",
   "metadata": {},
   "source": [
    "#### Obsevation:\n",
    "- **USA** has highest number of medals i.e. **5392** and **France** has least number of medals i.e. **1681**.\n"
   ]
  },
  {
   "cell_type": "markdown",
   "id": "11a22b4d",
   "metadata": {},
   "source": [
    "#### Q.10 In which Sport/event, India has won highest medals."
   ]
  },
  {
   "cell_type": "code",
   "execution_count": 137,
   "id": "fc5430d0",
   "metadata": {},
   "outputs": [],
   "source": [
    "query='''\n",
    "WITH medal_count AS (\n",
    "SELECT\n",
    "Sport,\n",
    "COUNT(medal) AS medal_cnt\n",
    "FROM\n",
    "Olympics.olympics_history\n",
    "WHERE team='India' AND medal <> 'NA'\n",
    "GROUP BY 1\n",
    "ORDER BY medal_cnt\n",
    "),\n",
    "\n",
    "high_medal_cnt AS\n",
    "(\n",
    "SELECT * ,\n",
    "ROW_NUMBER () OVER ( ORDER BY medal_cnt desc) AS rnk\n",
    "FROM medal_count\n",
    ")\n",
    "\n",
    "SELECT Sport, medal_cnt FROM high_medal_cnt\n",
    "WHERE rnk=1;\n",
    "\n",
    "'''"
   ]
  },
  {
   "cell_type": "code",
   "execution_count": 138,
   "id": "03bef540",
   "metadata": {},
   "outputs": [],
   "source": [
    "olympics_data = pd.read_sql_query(query, mydb)"
   ]
  },
  {
   "cell_type": "code",
   "execution_count": 139,
   "id": "64e11f25",
   "metadata": {},
   "outputs": [
    {
     "data": {
      "text/html": [
       "<div>\n",
       "<style scoped>\n",
       "    .dataframe tbody tr th:only-of-type {\n",
       "        vertical-align: middle;\n",
       "    }\n",
       "\n",
       "    .dataframe tbody tr th {\n",
       "        vertical-align: top;\n",
       "    }\n",
       "\n",
       "    .dataframe thead th {\n",
       "        text-align: right;\n",
       "    }\n",
       "</style>\n",
       "<table border=\"1\" class=\"dataframe\">\n",
       "  <thead>\n",
       "    <tr style=\"text-align: right;\">\n",
       "      <th></th>\n",
       "      <th>Sport</th>\n",
       "      <th>medal_cnt</th>\n",
       "    </tr>\n",
       "  </thead>\n",
       "  <tbody>\n",
       "    <tr>\n",
       "      <th>0</th>\n",
       "      <td>Hockey</td>\n",
       "      <td>161</td>\n",
       "    </tr>\n",
       "  </tbody>\n",
       "</table>\n",
       "</div>"
      ],
      "text/plain": [
       "    Sport  medal_cnt\n",
       "0  Hockey        161"
      ]
     },
     "execution_count": 139,
     "metadata": {},
     "output_type": "execute_result"
    }
   ],
   "source": [
    "olympics_data"
   ]
  },
  {
   "cell_type": "markdown",
   "id": "9e2b761a",
   "metadata": {},
   "source": [
    "#### Observation:\n",
    "- India has won most of medals in **Hockey** Sport with the count of **161**."
   ]
  },
  {
   "cell_type": "markdown",
   "id": "8f549982",
   "metadata": {},
   "source": [
    "#### Q.10 Break down all olympic games where India won medal for Hockey and how many medals in each olympic games.\n",
    "- format query as above - rest all good"
   ]
  },
  {
   "cell_type": "code",
   "execution_count": 140,
   "id": "01c53449",
   "metadata": {},
   "outputs": [],
   "source": [
    "query='''\n",
    "WITH medal_count_cte AS (\n",
    "SELECT\n",
    "team,\n",
    "Games AS games,\n",
    "Sport AS sport,\n",
    "COUNT(MEDAL) AS total_medals\n",
    "FROM\n",
    "Olympics.olympics_history\n",
    "WHERE team='India' AND medal <> 'NA' AND sport='Hockey'\n",
    "GROUP BY 1,2,3\n",
    "ORDER BY total_medals DESC\n",
    ")\n",
    "\n",
    "SELECT * FROM medal_count_cte;\n",
    "'''"
   ]
  },
  {
   "cell_type": "code",
   "execution_count": 141,
   "id": "4cba0325",
   "metadata": {},
   "outputs": [],
   "source": [
    "olympics_data = pd.read_sql_query(query, mydb)"
   ]
  },
  {
   "cell_type": "code",
   "execution_count": 142,
   "id": "84fd08a2",
   "metadata": {},
   "outputs": [
    {
     "data": {
      "text/html": [
       "<div>\n",
       "<style scoped>\n",
       "    .dataframe tbody tr th:only-of-type {\n",
       "        vertical-align: middle;\n",
       "    }\n",
       "\n",
       "    .dataframe tbody tr th {\n",
       "        vertical-align: top;\n",
       "    }\n",
       "\n",
       "    .dataframe thead th {\n",
       "        text-align: right;\n",
       "    }\n",
       "</style>\n",
       "<table border=\"1\" class=\"dataframe\">\n",
       "  <thead>\n",
       "    <tr style=\"text-align: right;\">\n",
       "      <th></th>\n",
       "      <th>team</th>\n",
       "      <th>games</th>\n",
       "      <th>sport</th>\n",
       "      <th>total_medals</th>\n",
       "    </tr>\n",
       "  </thead>\n",
       "  <tbody>\n",
       "    <tr>\n",
       "      <th>0</th>\n",
       "      <td>India</td>\n",
       "      <td>1936 Summer</td>\n",
       "      <td>Hockey</td>\n",
       "      <td>18</td>\n",
       "    </tr>\n",
       "    <tr>\n",
       "      <th>1</th>\n",
       "      <td>India</td>\n",
       "      <td>1980 Summer</td>\n",
       "      <td>Hockey</td>\n",
       "      <td>16</td>\n",
       "    </tr>\n",
       "    <tr>\n",
       "      <th>2</th>\n",
       "      <td>India</td>\n",
       "      <td>1968 Summer</td>\n",
       "      <td>Hockey</td>\n",
       "      <td>16</td>\n",
       "    </tr>\n",
       "    <tr>\n",
       "      <th>3</th>\n",
       "      <td>India</td>\n",
       "      <td>1948 Summer</td>\n",
       "      <td>Hockey</td>\n",
       "      <td>16</td>\n",
       "    </tr>\n",
       "    <tr>\n",
       "      <th>4</th>\n",
       "      <td>India</td>\n",
       "      <td>1956 Summer</td>\n",
       "      <td>Hockey</td>\n",
       "      <td>16</td>\n",
       "    </tr>\n",
       "    <tr>\n",
       "      <th>5</th>\n",
       "      <td>India</td>\n",
       "      <td>1964 Summer</td>\n",
       "      <td>Hockey</td>\n",
       "      <td>15</td>\n",
       "    </tr>\n",
       "    <tr>\n",
       "      <th>6</th>\n",
       "      <td>India</td>\n",
       "      <td>1972 Summer</td>\n",
       "      <td>Hockey</td>\n",
       "      <td>14</td>\n",
       "    </tr>\n",
       "    <tr>\n",
       "      <th>7</th>\n",
       "      <td>India</td>\n",
       "      <td>1952 Summer</td>\n",
       "      <td>Hockey</td>\n",
       "      <td>14</td>\n",
       "    </tr>\n",
       "    <tr>\n",
       "      <th>8</th>\n",
       "      <td>India</td>\n",
       "      <td>1960 Summer</td>\n",
       "      <td>Hockey</td>\n",
       "      <td>13</td>\n",
       "    </tr>\n",
       "    <tr>\n",
       "      <th>9</th>\n",
       "      <td>India</td>\n",
       "      <td>1928 Summer</td>\n",
       "      <td>Hockey</td>\n",
       "      <td>12</td>\n",
       "    </tr>\n",
       "    <tr>\n",
       "      <th>10</th>\n",
       "      <td>India</td>\n",
       "      <td>1932 Summer</td>\n",
       "      <td>Hockey</td>\n",
       "      <td>11</td>\n",
       "    </tr>\n",
       "  </tbody>\n",
       "</table>\n",
       "</div>"
      ],
      "text/plain": [
       "     team        games   sport  total_medals\n",
       "0   India  1936 Summer  Hockey            18\n",
       "1   India  1980 Summer  Hockey            16\n",
       "2   India  1968 Summer  Hockey            16\n",
       "3   India  1948 Summer  Hockey            16\n",
       "4   India  1956 Summer  Hockey            16\n",
       "5   India  1964 Summer  Hockey            15\n",
       "6   India  1972 Summer  Hockey            14\n",
       "7   India  1952 Summer  Hockey            14\n",
       "8   India  1960 Summer  Hockey            13\n",
       "9   India  1928 Summer  Hockey            12\n",
       "10  India  1932 Summer  Hockey            11"
      ]
     },
     "execution_count": 142,
     "metadata": {},
     "output_type": "execute_result"
    }
   ],
   "source": [
    "olympics_data"
   ]
  },
  {
   "cell_type": "code",
   "execution_count": 143,
   "id": "75d6ec21",
   "metadata": {},
   "outputs": [
    {
     "data": {
      "text/plain": [
       "(array([ 0,  1,  2,  3,  4,  5,  6,  7,  8,  9, 10]),\n",
       " [Text(0, 0, '1936 Summer'),\n",
       "  Text(1, 0, '1980 Summer'),\n",
       "  Text(2, 0, '1968 Summer'),\n",
       "  Text(3, 0, '1948 Summer'),\n",
       "  Text(4, 0, '1956 Summer'),\n",
       "  Text(5, 0, '1964 Summer'),\n",
       "  Text(6, 0, '1972 Summer'),\n",
       "  Text(7, 0, '1952 Summer'),\n",
       "  Text(8, 0, '1960 Summer'),\n",
       "  Text(9, 0, '1928 Summer'),\n",
       "  Text(10, 0, '1932 Summer')])"
      ]
     },
     "execution_count": 143,
     "metadata": {},
     "output_type": "execute_result"
    },
    {
     "data": {
      "image/png": "[encoded data removed]",
      "text/plain": [
       "<Figure size 2520x864 with 1 Axes>"
      ]
     },
     "metadata": {
      "needs_background": "light"
     },
     "output_type": "display_data"
    }
   ],
   "source": [
    "plt.figure(figsize=(35,12))\n",
    "ax=sns.barplot(x = 'games', y = 'total_medals', data=olympics_data)\n",
    "plt.xlabel(\"Year\",fontsize=20,weight=\"bold\")\n",
    "plt.ylabel(\"medal_count\",fontsize=20,weight=\"bold\")\n",
    "ax = ax.bar_label(ax.containers[0],fontsize=20)\n",
    "plt.xticks(rotation = 30,fontsize=20)"
   ]
  },
  {
   "cell_type": "markdown",
   "id": "0300ad3a",
   "metadata": {},
   "source": [
    "### Obsevation:\n",
    "- India has won most of the medals i.e. **18** in 1936 Summer Olympics games  while least i.e. **11** in 1932 Summer Olympics games for Hockey."
   ]
  },
  {
   "cell_type": "markdown",
   "id": "aa1a73f4",
   "metadata": {},
   "source": [
    "#### Q.11 List top 15 down total gold, silver and bronze medals won by each country corresponding to each olympic games.\n",
    "- format query as above - make graphs more attractives as above"
   ]
  },
  {
   "cell_type": "code",
   "execution_count": 144,
   "id": "fe43ff74",
   "metadata": {},
   "outputs": [],
   "source": [
    "query='''\n",
    "WITH join_tables_cte AS (\n",
    "SELECT\n",
    "olympics_history.medal AS medal_won,\n",
    "olympics_history.Games AS games,\n",
    "olympics_history_noc_regions.region AS country\n",
    "FROM\n",
    "Olympics.olympics_history\n",
    "LEFT JOIN\n",
    "Olympics.olympics_history_noc_regions\n",
    "ON olympics_history.noc=olympics_history_noc_regions.noc\n",
    "WHERE medal <> 'NA'\n",
    "),\n",
    "total_medal_cte AS\n",
    "(\n",
    "SELECT\n",
    "country,\n",
    "medal_won,\n",
    "games,\n",
    "COUNT(medal_won) AS total_medals_count\n",
    "FROM\n",
    "join_tables_cte\n",
    "GROUP BY country,medal_won,games\n",
    "ORDER BY total_medals_count DESC\n",
    ")\n",
    "SELECT * FROM total_medal_cte LIMIT 15\n",
    "'''"
   ]
  },
  {
   "cell_type": "code",
   "execution_count": 145,
   "id": "6429a34b",
   "metadata": {},
   "outputs": [],
   "source": [
    "olympics_data = pd.read_sql_query(query, mydb)"
   ]
  },
  {
   "cell_type": "code",
   "execution_count": 146,
   "id": "b1321993",
   "metadata": {},
   "outputs": [
    {
     "data": {
      "text/html": [
       "<div>\n",
       "<style scoped>\n",
       "    .dataframe tbody tr th:only-of-type {\n",
       "        vertical-align: middle;\n",
       "    }\n",
       "\n",
       "    .dataframe tbody tr th {\n",
       "        vertical-align: top;\n",
       "    }\n",
       "\n",
       "    .dataframe thead th {\n",
       "        text-align: right;\n",
       "    }\n",
       "</style>\n",
       "<table border=\"1\" class=\"dataframe\">\n",
       "  <thead>\n",
       "    <tr style=\"text-align: right;\">\n",
       "      <th></th>\n",
       "      <th>country</th>\n",
       "      <th>medal_won</th>\n",
       "      <th>games</th>\n",
       "      <th>total_medals_count</th>\n",
       "    </tr>\n",
       "  </thead>\n",
       "  <tbody>\n",
       "    <tr>\n",
       "      <th>0</th>\n",
       "      <td>Russia</td>\n",
       "      <td>Gold</td>\n",
       "      <td>1980 Summer</td>\n",
       "      <td>187</td>\n",
       "    </tr>\n",
       "    <tr>\n",
       "      <th>1</th>\n",
       "      <td>USA</td>\n",
       "      <td>Gold</td>\n",
       "      <td>1984 Summer</td>\n",
       "      <td>177</td>\n",
       "    </tr>\n",
       "    <tr>\n",
       "      <th>2</th>\n",
       "      <td>USA</td>\n",
       "      <td>Gold</td>\n",
       "      <td>1996 Summer</td>\n",
       "      <td>152</td>\n",
       "    </tr>\n",
       "    <tr>\n",
       "      <th>3</th>\n",
       "      <td>USA</td>\n",
       "      <td>Gold</td>\n",
       "      <td>2012 Summer</td>\n",
       "      <td>145</td>\n",
       "    </tr>\n",
       "    <tr>\n",
       "      <th>4</th>\n",
       "      <td>USA</td>\n",
       "      <td>Gold</td>\n",
       "      <td>2016 Summer</td>\n",
       "      <td>138</td>\n",
       "    </tr>\n",
       "    <tr>\n",
       "      <th>5</th>\n",
       "      <td>UK</td>\n",
       "      <td>Gold</td>\n",
       "      <td>1908 Summer</td>\n",
       "      <td>138</td>\n",
       "    </tr>\n",
       "    <tr>\n",
       "      <th>6</th>\n",
       "      <td>Russia</td>\n",
       "      <td>Gold</td>\n",
       "      <td>1988 Summer</td>\n",
       "      <td>134</td>\n",
       "    </tr>\n",
       "    <tr>\n",
       "      <th>7</th>\n",
       "      <td>USA</td>\n",
       "      <td>Gold</td>\n",
       "      <td>2000 Summer</td>\n",
       "      <td>130</td>\n",
       "    </tr>\n",
       "    <tr>\n",
       "      <th>8</th>\n",
       "      <td>Russia</td>\n",
       "      <td>Silver</td>\n",
       "      <td>1980 Summer</td>\n",
       "      <td>129</td>\n",
       "    </tr>\n",
       "    <tr>\n",
       "      <th>9</th>\n",
       "      <td>USA</td>\n",
       "      <td>Gold</td>\n",
       "      <td>2008 Summer</td>\n",
       "      <td>127</td>\n",
       "    </tr>\n",
       "    <tr>\n",
       "      <th>10</th>\n",
       "      <td>Russia</td>\n",
       "      <td>Bronze</td>\n",
       "      <td>1980 Summer</td>\n",
       "      <td>126</td>\n",
       "    </tr>\n",
       "    <tr>\n",
       "      <th>11</th>\n",
       "      <td>Germany</td>\n",
       "      <td>Gold</td>\n",
       "      <td>1976 Summer</td>\n",
       "      <td>123</td>\n",
       "    </tr>\n",
       "    <tr>\n",
       "      <th>12</th>\n",
       "      <td>USA</td>\n",
       "      <td>Silver</td>\n",
       "      <td>1904 Summer</td>\n",
       "      <td>119</td>\n",
       "    </tr>\n",
       "    <tr>\n",
       "      <th>13</th>\n",
       "      <td>USA</td>\n",
       "      <td>Gold</td>\n",
       "      <td>2004 Summer</td>\n",
       "      <td>116</td>\n",
       "    </tr>\n",
       "    <tr>\n",
       "      <th>14</th>\n",
       "      <td>USA</td>\n",
       "      <td>Gold</td>\n",
       "      <td>1904 Summer</td>\n",
       "      <td>115</td>\n",
       "    </tr>\n",
       "  </tbody>\n",
       "</table>\n",
       "</div>"
      ],
      "text/plain": [
       "    country medal_won        games  total_medals_count\n",
       "0    Russia      Gold  1980 Summer                 187\n",
       "1       USA      Gold  1984 Summer                 177\n",
       "2       USA      Gold  1996 Summer                 152\n",
       "3       USA      Gold  2012 Summer                 145\n",
       "4       USA      Gold  2016 Summer                 138\n",
       "5        UK      Gold  1908 Summer                 138\n",
       "6    Russia      Gold  1988 Summer                 134\n",
       "7       USA      Gold  2000 Summer                 130\n",
       "8    Russia    Silver  1980 Summer                 129\n",
       "9       USA      Gold  2008 Summer                 127\n",
       "10   Russia    Bronze  1980 Summer                 126\n",
       "11  Germany      Gold  1976 Summer                 123\n",
       "12      USA    Silver  1904 Summer                 119\n",
       "13      USA      Gold  2004 Summer                 116\n",
       "14      USA      Gold  1904 Summer                 115"
      ]
     },
     "execution_count": 146,
     "metadata": {},
     "output_type": "execute_result"
    }
   ],
   "source": [
    "olympics_data"
   ]
  },
  {
   "cell_type": "code",
   "execution_count": 156,
   "id": "f7166a98",
   "metadata": {},
   "outputs": [
    {
     "data": {
      "text/plain": [
       "<Axes: xlabel='country'>"
      ]
     },
     "execution_count": 156,
     "metadata": {},
     "output_type": "execute_result"
    },
    {
     "data": {
      "image/png": "[encoded data removed]",
      "text/plain": [
       "<Figure size 432x288 with 1 Axes>"
      ]
     },
     "metadata": {
      "needs_background": "light"
     },
     "output_type": "display_data"
    }
   ],
   "source": [
    "olympics_data[['country','total_medals_count','medal_won']].plot.bar(x='country',y='total_medals_count',stacked=True)"
   ]
  },
  {
   "cell_type": "code",
   "execution_count": 164,
   "id": "8406752e",
   "metadata": {},
   "outputs": [
    {
     "data": {
      "image/png": "[encoded data removed]",
      "text/plain": [
       "<Figure size 432x288 with 1 Axes>"
      ]
     },
     "metadata": {
      "needs_background": "light"
     },
     "output_type": "display_data"
    }
   ],
   "source": [
    "ax = sns.barplot(olympics_data, x='country', y='total_medals_count', hue='medal_won')"
   ]
  },
  {
   "cell_type": "code",
   "execution_count": 162,
   "id": "4c47beb6",
   "metadata": {},
   "outputs": [
    {
     "data": {
      "text/plain": [
       "<Axes: xlabel='country', ylabel='total_medals_count'>"
      ]
     },
     "execution_count": 162,
     "metadata": {},
     "output_type": "execute_result"
    },
    {
     "data": {
      "image/png": "[encoded data removed]",
      "text/plain": [
       "<Figure size 432x288 with 1 Axes>"
      ]
     },
     "metadata": {
      "needs_background": "light"
     },
     "output_type": "display_data"
    }
   ],
   "source": [
    "sns.barplot(x='country', y='total_medals_count', hue='games', data=olympics_data, palette='bright')"
   ]
  },
  {
   "cell_type": "code",
   "execution_count": null,
   "id": "1f5ce0d6",
   "metadata": {},
   "outputs": [],
   "source": [
    "sns.barplot(x='country', y='total_medals_count', hue='medal_won', data=olympics_data, palette='bright')"
   ]
  },
  {
   "cell_type": "code",
   "execution_count": 148,
   "id": "7b5a96db",
   "metadata": {},
   "outputs": [
    {
     "data": {
      "text/plain": [
       "(array([0, 1, 2, 3]),\n",
       " [Text(0, 0, 'Russia'),\n",
       "  Text(1, 0, 'USA'),\n",
       "  Text(2, 0, 'UK'),\n",
       "  Text(3, 0, 'Germany')])"
      ]
     },
     "execution_count": 148,
     "metadata": {},
     "output_type": "execute_result"
    },
    {
     "data": {
      "image/png": "[encoded data removed]",
      "text/plain": [
       "<Figure size 2520x864 with 1 Axes>"
      ]
     },
     "metadata": {
      "needs_background": "light"
     },
     "output_type": "display_data"
    }
   ],
   "source": [
    "plt.figure(figsize=(35,12))\n",
    "ax=sns.barplot(x = 'country', y = 'total_medals_count', data=olympics_data)\n",
    "plt.xlabel(\"Country\",fontsize=20,weight=\"bold\")\n",
    "plt.ylabel(\"games\",fontsize=20,weight=\"bold\")\n",
    "ax = ax.bar_label(ax.containers[0],fontsize=20)\n",
    "plt.xticks(rotation = 30,fontsize=20)"
   ]
  },
  {
   "cell_type": "code",
   "execution_count": 149,
   "id": "254013cd",
   "metadata": {},
   "outputs": [
    {
     "ename": "TypeError",
     "evalue": "plot() got an unexpected keyword argument 'x'",
     "output_type": "error",
     "traceback": [
      "\u001b[0;31m---------------------------------------------------------------------------\u001b[0m",
      "\u001b[0;31mTypeError\u001b[0m                                 Traceback (most recent call last)",
      "\u001b[0;32m<ipython-input-149-26c5bf0933eb>\u001b[0m in \u001b[0;36m<module>\u001b[0;34m\u001b[0m\n\u001b[1;32m      1\u001b[0m \u001b[0mplt\u001b[0m\u001b[0;34m.\u001b[0m\u001b[0mfigure\u001b[0m\u001b[0;34m(\u001b[0m\u001b[0mfigsize\u001b[0m\u001b[0;34m=\u001b[0m\u001b[0;34m(\u001b[0m\u001b[0;36m35\u001b[0m\u001b[0;34m,\u001b[0m\u001b[0;36m12\u001b[0m\u001b[0;34m)\u001b[0m\u001b[0;34m)\u001b[0m\u001b[0;34m\u001b[0m\u001b[0;34m\u001b[0m\u001b[0m\n\u001b[0;32m----> 2\u001b[0;31m \u001b[0mplt\u001b[0m\u001b[0;34m.\u001b[0m\u001b[0mplot\u001b[0m\u001b[0;34m(\u001b[0m\u001b[0mx\u001b[0m\u001b[0;34m=\u001b[0m\u001b[0;34m'country'\u001b[0m\u001b[0;34m,\u001b[0m \u001b[0my\u001b[0m\u001b[0;34m=\u001b[0m\u001b[0;34m[\u001b[0m\u001b[0;34m\"games\"\u001b[0m\u001b[0;34m,\u001b[0m \u001b[0;34m\"total_medals_count\"\u001b[0m\u001b[0;34m]\u001b[0m\u001b[0;34m,\u001b[0m\u001b[0mkind\u001b[0m\u001b[0;34m=\u001b[0m\u001b[0;34m'bar'\u001b[0m\u001b[0;34m,\u001b[0m\u001b[0mdata\u001b[0m\u001b[0;34m=\u001b[0m\u001b[0molympics_data\u001b[0m\u001b[0;34m)\u001b[0m\u001b[0;34m\u001b[0m\u001b[0;34m\u001b[0m\u001b[0m\n\u001b[0m",
      "\u001b[0;32m~/opt/anaconda3/lib/python3.8/site-packages/matplotlib/pyplot.py\u001b[0m in \u001b[0;36mplot\u001b[0;34m(scalex, scaley, data, *args, **kwargs)\u001b[0m\n\u001b[1;32m   2810\u001b[0m \u001b[0;34m@\u001b[0m\u001b[0m_copy_docstring_and_deprecators\u001b[0m\u001b[0;34m(\u001b[0m\u001b[0mAxes\u001b[0m\u001b[0;34m.\u001b[0m\u001b[0mplot\u001b[0m\u001b[0;34m)\u001b[0m\u001b[0;34m\u001b[0m\u001b[0;34m\u001b[0m\u001b[0m\n\u001b[1;32m   2811\u001b[0m \u001b[0;32mdef\u001b[0m \u001b[0mplot\u001b[0m\u001b[0;34m(\u001b[0m\u001b[0;34m*\u001b[0m\u001b[0margs\u001b[0m\u001b[0;34m,\u001b[0m \u001b[0mscalex\u001b[0m\u001b[0;34m=\u001b[0m\u001b[0;32mTrue\u001b[0m\u001b[0;34m,\u001b[0m \u001b[0mscaley\u001b[0m\u001b[0;34m=\u001b[0m\u001b[0;32mTrue\u001b[0m\u001b[0;34m,\u001b[0m \u001b[0mdata\u001b[0m\u001b[0;34m=\u001b[0m\u001b[0;32mNone\u001b[0m\u001b[0;34m,\u001b[0m \u001b[0;34m**\u001b[0m\u001b[0mkwargs\u001b[0m\u001b[0;34m)\u001b[0m\u001b[0;34m:\u001b[0m\u001b[0;34m\u001b[0m\u001b[0;34m\u001b[0m\u001b[0m\n\u001b[0;32m-> 2812\u001b[0;31m     return gca().plot(\n\u001b[0m\u001b[1;32m   2813\u001b[0m         \u001b[0;34m*\u001b[0m\u001b[0margs\u001b[0m\u001b[0;34m,\u001b[0m \u001b[0mscalex\u001b[0m\u001b[0;34m=\u001b[0m\u001b[0mscalex\u001b[0m\u001b[0;34m,\u001b[0m \u001b[0mscaley\u001b[0m\u001b[0;34m=\u001b[0m\u001b[0mscaley\u001b[0m\u001b[0;34m,\u001b[0m\u001b[0;34m\u001b[0m\u001b[0;34m\u001b[0m\u001b[0m\n\u001b[1;32m   2814\u001b[0m         **({\"data\": data} if data is not None else {}), **kwargs)\n",
      "\u001b[0;32m~/opt/anaconda3/lib/python3.8/site-packages/matplotlib/axes/_axes.py\u001b[0m in \u001b[0;36mplot\u001b[0;34m(self, scalex, scaley, data, *args, **kwargs)\u001b[0m\n\u001b[1;32m   1686\u001b[0m         \"\"\"\n\u001b[1;32m   1687\u001b[0m         \u001b[0mkwargs\u001b[0m \u001b[0;34m=\u001b[0m \u001b[0mcbook\u001b[0m\u001b[0;34m.\u001b[0m\u001b[0mnormalize_kwargs\u001b[0m\u001b[0;34m(\u001b[0m\u001b[0mkwargs\u001b[0m\u001b[0;34m,\u001b[0m \u001b[0mmlines\u001b[0m\u001b[0;34m.\u001b[0m\u001b[0mLine2D\u001b[0m\u001b[0;34m)\u001b[0m\u001b[0;34m\u001b[0m\u001b[0;34m\u001b[0m\u001b[0m\n\u001b[0;32m-> 1688\u001b[0;31m         \u001b[0mlines\u001b[0m \u001b[0;34m=\u001b[0m \u001b[0;34m[\u001b[0m\u001b[0;34m*\u001b[0m\u001b[0mself\u001b[0m\u001b[0;34m.\u001b[0m\u001b[0m_get_lines\u001b[0m\u001b[0;34m(\u001b[0m\u001b[0;34m*\u001b[0m\u001b[0margs\u001b[0m\u001b[0;34m,\u001b[0m \u001b[0mdata\u001b[0m\u001b[0;34m=\u001b[0m\u001b[0mdata\u001b[0m\u001b[0;34m,\u001b[0m \u001b[0;34m**\u001b[0m\u001b[0mkwargs\u001b[0m\u001b[0;34m)\u001b[0m\u001b[0;34m]\u001b[0m\u001b[0;34m\u001b[0m\u001b[0;34m\u001b[0m\u001b[0m\n\u001b[0m\u001b[1;32m   1689\u001b[0m         \u001b[0;32mfor\u001b[0m \u001b[0mline\u001b[0m \u001b[0;32min\u001b[0m \u001b[0mlines\u001b[0m\u001b[0;34m:\u001b[0m\u001b[0;34m\u001b[0m\u001b[0;34m\u001b[0m\u001b[0m\n\u001b[1;32m   1690\u001b[0m             \u001b[0mself\u001b[0m\u001b[0;34m.\u001b[0m\u001b[0madd_line\u001b[0m\u001b[0;34m(\u001b[0m\u001b[0mline\u001b[0m\u001b[0;34m)\u001b[0m\u001b[0;34m\u001b[0m\u001b[0;34m\u001b[0m\u001b[0m\n",
      "\u001b[0;32m~/opt/anaconda3/lib/python3.8/site-packages/matplotlib/axes/_base.py\u001b[0m in \u001b[0;36m__call__\u001b[0;34m(self, data, *args, **kwargs)\u001b[0m\n\u001b[1;32m    244\u001b[0m         \u001b[0;32mfor\u001b[0m \u001b[0mpos_only\u001b[0m \u001b[0;32min\u001b[0m \u001b[0;34m\"xy\"\u001b[0m\u001b[0;34m:\u001b[0m\u001b[0;34m\u001b[0m\u001b[0;34m\u001b[0m\u001b[0m\n\u001b[1;32m    245\u001b[0m             \u001b[0;32mif\u001b[0m \u001b[0mpos_only\u001b[0m \u001b[0;32min\u001b[0m \u001b[0mkwargs\u001b[0m\u001b[0;34m:\u001b[0m\u001b[0;34m\u001b[0m\u001b[0;34m\u001b[0m\u001b[0m\n\u001b[0;32m--> 246\u001b[0;31m                 \u001b[0;32mraise\u001b[0m \u001b[0m_api\u001b[0m\u001b[0;34m.\u001b[0m\u001b[0mkwarg_error\u001b[0m\u001b[0;34m(\u001b[0m\u001b[0mself\u001b[0m\u001b[0;34m.\u001b[0m\u001b[0mcommand\u001b[0m\u001b[0;34m,\u001b[0m \u001b[0mpos_only\u001b[0m\u001b[0;34m)\u001b[0m\u001b[0;34m\u001b[0m\u001b[0;34m\u001b[0m\u001b[0m\n\u001b[0m\u001b[1;32m    247\u001b[0m \u001b[0;34m\u001b[0m\u001b[0m\n\u001b[1;32m    248\u001b[0m         \u001b[0;32mif\u001b[0m \u001b[0;32mnot\u001b[0m \u001b[0margs\u001b[0m\u001b[0;34m:\u001b[0m\u001b[0;34m\u001b[0m\u001b[0;34m\u001b[0m\u001b[0m\n",
      "\u001b[0;31mTypeError\u001b[0m: plot() got an unexpected keyword argument 'x'"
     ]
    },
    {
     "data": {
      "image/png": "[encoded data removed]",
      "text/plain": [
       "<Figure size 2520x864 with 1 Axes>"
      ]
     },
     "metadata": {
      "needs_background": "light"
     },
     "output_type": "display_data"
    }
   ],
   "source": [
    "plt.figure(figsize=(35,12))\n",
    "plt.plot(x='country', y=[\"games\", \"total_medals_count\"],kind='bar',data=olympics_data)"
   ]
  },
  {
   "cell_type": "markdown",
   "id": "5c7becef",
   "metadata": {},
   "source": [
    "### Observation:\n",
    "- Russia has won most of the gold medals i.e. **187** in 1984 Summer Olympic games,while USA won least number of medals in 1904 Summer i.e. **115**."
   ]
  },
  {
   "cell_type": "code",
   "execution_count": null,
   "id": "fff098c3",
   "metadata": {},
   "outputs": [],
   "source": []
  },
  {
   "cell_type": "markdown",
   "id": "9f142d95",
   "metadata": {},
   "source": [
    "- Very good overall good imporvement in projects.\n",
    "- do one more project like this will help you to improve confidence in SQL\n",
    "- I have gave you 45 questions list try if possible to write queries - it will take time but help you to improve knowledge"
   ]
  },
  {
   "cell_type": "code",
   "execution_count": null,
   "id": "b44c33c6",
   "metadata": {},
   "outputs": [],
   "source": []
  }
 ],
 "metadata": {
  "kernelspec": {
   "display_name": "Python 3",
   "language": "python",
   "name": "python3"
  },
  "language_info": {
   "codemirror_mode": {
    "name": "ipython",
    "version": 3
   },
   "file_extension": ".py",
   "mimetype": "text/x-python",
   "name": "python",
   "nbconvert_exporter": "python",
   "pygments_lexer": "ipython3",
   "version": "3.8.8"
  }
 },
 "nbformat": 4,
 "nbformat_minor": 5
}
